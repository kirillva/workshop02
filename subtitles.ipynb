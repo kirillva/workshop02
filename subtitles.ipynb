{
 "cells": [
  {
   "cell_type": "code",
   "execution_count": 80,
   "metadata": {},
   "outputs": [],
   "source": [
    "import re\n",
    "import srt \n",
    "import glob\n",
    "import pandas as pd\n",
    "import os\n",
    "import numpy as np\n",
    "from fuzzywuzzy import fuzz\n",
    "from fuzzywuzzy import process\n",
    "\n",
    "import spacy\n",
    "\n",
    "from sklearn.experimental import enable_halving_search_cv\n",
    "from sklearn.model_selection import (\n",
    "    train_test_split,\n",
    "    HalvingRandomSearchCV\n",
    ")\n",
    "from sklearn.metrics import (\n",
    "    ConfusionMatrixDisplay, confusion_matrix,\n",
    "    f1_score, roc_auc_score,\n",
    "    classification_report, make_scorer\n",
    ")\n",
    "\n",
    "import matplotlib.pyplot as plt\n",
    "\n",
    "from sklearn.feature_extraction.text import TfidfVectorizer\n",
    "from sklearn.pipeline import Pipeline, make_pipeline\n",
    "\n",
    "from sklearn.ensemble import RandomForestClassifier\n",
    "\n",
    "from imblearn.under_sampling import NearMiss \n",
    "\n",
    "from catboost import CatBoostClassifier, CatBoostRegressor, Pool\n",
    "\n",
    "from sklearn.feature_extraction.text import CountVectorizer\n",
    "from scipy import sparse"
   ]
  },
  {
   "attachments": {},
   "cell_type": "markdown",
   "metadata": {},
   "source": []
  },
  {
   "cell_type": "code",
   "execution_count": 81,
   "metadata": {},
   "outputs": [],
   "source": [
    "DATA_PATH = 'English_level/data_all'\n",
    "\n",
    "HTML = r'<.*?>'\n",
    "TAG = r'{.*?}'\n",
    "COMMENTS = r'[\\(\\[][A-Z ]+[\\)\\]]'\n",
    "LETTERS = r'[^a-zA-Z\\'.,!? ]'\n",
    "SPACES = r'([ ])\\1+'\n",
    "DOTS = r'[\\.]+'\n",
    "\n",
    "YEAR_SRT = r'(\\(\\d{4}\\))'\n",
    "CLEAN_TEXT = r'[^a-z\\s\\|]'\n",
    "\n",
    "def clean_subs(subs):\n",
    "    txt = re.sub(HTML, ' ', subs) #html тэги меняем на пробел\n",
    "    txt = re.sub(TAG, ' ', txt) #тэги меняем на пробел\n",
    "    txt = re.sub(COMMENTS, ' ', txt) #комменты меняем на пробел\n",
    "    txt = re.sub(LETTERS, ' ', txt) #все что не буквы меняем на пробел\n",
    "    txt = re.sub(SPACES, r'\\1', txt) #повторяющиеся пробелы меняем на один пробел\n",
    "    txt = re.sub(DOTS, r'.', txt)  #многоточие меняем на точку\n",
    "    return txt"
   ]
  },
  {
   "attachments": {},
   "cell_type": "markdown",
   "metadata": {},
   "source": [
    "### Предобработка данных\n",
    "\n",
    "Читаем файлы, создаем переменные:\n",
    "dframes - обьект, связывающий имена файлов с датафреймами субтитров.\n",
    "films - датафрейм с именами фильмов и классификацией"
   ]
  },
  {
   "cell_type": "code",
   "execution_count": 82,
   "metadata": {},
   "outputs": [],
   "source": [
    "dframes = {}\n",
    "files = glob.glob(f'{DATA_PATH}/Subtitles_all/*.srt')\n",
    "\n",
    "for filename in files:\n",
    "    try:\n",
    "        with open(filename) as f:\n",
    "            #удаляем все что не ascii символы   \n",
    "            subtitle_generator = srt.parse(f.read().encode('ascii', 'ignore').decode())\n",
    "            #удаляем первый и последний субтитр (обычно это реклама)\n",
    "            df = pd.DataFrame(list([[item.start, item.end, item.content] for item in subtitle_generator][1:-1]), columns=['start','end','content'])\n",
    "            df['content'] = df['content'].apply(clean_subs)\n",
    "            df['content'] = df['content'].str.strip().replace('', np.nan).str.lower()\n",
    "            df.dropna(subset=['content'], inplace=True)\n",
    "            df.reset_index(drop=True, inplace=True)\n",
    "\n",
    "            dframes[os.path.basename(f.name)] = df\n",
    "\n",
    "    except srt.SRTParseError as e:\n",
    "        print(filename, e)\n",
    "        \n",
    "films = pd.DataFrame([n for n in dframes], columns=['name'])\n",
    "films['year'] = films['name'].str.extract(YEAR_SRT, flags=0)\n",
    "films['parsed_name'] = films.apply(lambda x: x['name'].replace(str(x['year']), '').replace('_', ' ').replace('.srt', ''), axis=1)\n",
    "\n",
    "labels = pd.read_csv(f'{DATA_PATH}/labels_all.csv')"
   ]
  },
  {
   "cell_type": "code",
   "execution_count": 83,
   "metadata": {},
   "outputs": [
    {
     "data": {
      "text/html": [
       "<div>\n",
       "<style scoped>\n",
       "    .dataframe tbody tr th:only-of-type {\n",
       "        vertical-align: middle;\n",
       "    }\n",
       "\n",
       "    .dataframe tbody tr th {\n",
       "        vertical-align: top;\n",
       "    }\n",
       "\n",
       "    .dataframe thead th {\n",
       "        text-align: right;\n",
       "    }\n",
       "</style>\n",
       "<table border=\"1\" class=\"dataframe\">\n",
       "  <thead>\n",
       "    <tr style=\"text-align: right;\">\n",
       "      <th></th>\n",
       "      <th>movie</th>\n",
       "      <th>level</th>\n",
       "      <th>name</th>\n",
       "    </tr>\n",
       "    <tr>\n",
       "      <th>index</th>\n",
       "      <th></th>\n",
       "      <th></th>\n",
       "      <th></th>\n",
       "    </tr>\n",
       "  </thead>\n",
       "  <tbody>\n",
       "    <tr>\n",
       "      <th>37</th>\n",
       "      <td>Forrest Gump</td>\n",
       "      <td>B1</td>\n",
       "      <td>Forrest_Gump(1994).srt</td>\n",
       "    </tr>\n",
       "    <tr>\n",
       "      <th>36</th>\n",
       "      <td>Finding Nemo\\n</td>\n",
       "      <td>A2/A2+</td>\n",
       "      <td>Finding_Nemo(2003).srt</td>\n",
       "    </tr>\n",
       "    <tr>\n",
       "      <th>21</th>\n",
       "      <td>Cast away\\n</td>\n",
       "      <td>A2/A2+</td>\n",
       "      <td>Cast_away(2000).srt</td>\n",
       "    </tr>\n",
       "    <tr>\n",
       "      <th>91</th>\n",
       "      <td>The invisible man (2020)\\n</td>\n",
       "      <td>A2/A2+</td>\n",
       "      <td>The_invisible_man(2020).srt</td>\n",
       "    </tr>\n",
       "    <tr>\n",
       "      <th>8</th>\n",
       "      <td>Back to the future\\n</td>\n",
       "      <td>A2/A2+</td>\n",
       "      <td>Back_to_the_future(1985).srt</td>\n",
       "    </tr>\n",
       "    <tr>\n",
       "      <th>...</th>\n",
       "      <td>...</td>\n",
       "      <td>...</td>\n",
       "      <td>...</td>\n",
       "    </tr>\n",
       "    <tr>\n",
       "      <th>48</th>\n",
       "      <td>Klaus</td>\n",
       "      <td>C1</td>\n",
       "      <td>Klaus(2019).srt</td>\n",
       "    </tr>\n",
       "    <tr>\n",
       "      <th>67</th>\n",
       "      <td>Ocean’s Eleven</td>\n",
       "      <td>C1</td>\n",
       "      <td>Oceans_Eleven(2001).srt</td>\n",
       "    </tr>\n",
       "    <tr>\n",
       "      <th>68</th>\n",
       "      <td>Ocean’s Twelve</td>\n",
       "      <td>C1</td>\n",
       "      <td>Oceans_Twelve(2004).srt</td>\n",
       "    </tr>\n",
       "    <tr>\n",
       "      <th>17</th>\n",
       "      <td>Bridget Jones’s Baby</td>\n",
       "      <td>C1</td>\n",
       "      <td>Bridget_Joness_Baby.srt</td>\n",
       "    </tr>\n",
       "    <tr>\n",
       "      <th>62</th>\n",
       "      <td>Mona Lisa Smile</td>\n",
       "      <td>C1</td>\n",
       "      <td>Mona_Lisa_Smile(2003).srt</td>\n",
       "    </tr>\n",
       "  </tbody>\n",
       "</table>\n",
       "<p>111 rows × 3 columns</p>\n",
       "</div>"
      ],
      "text/plain": [
       "                            movie   level                          name\n",
       "index                                                                  \n",
       "37                   Forrest Gump      B1        Forrest_Gump(1994).srt\n",
       "36                 Finding Nemo\\n  A2/A2+        Finding_Nemo(2003).srt\n",
       "21                    Cast away\\n  A2/A2+           Cast_away(2000).srt\n",
       "91     The invisible man (2020)\\n  A2/A2+   The_invisible_man(2020).srt\n",
       "8            Back to the future\\n  A2/A2+  Back_to_the_future(1985).srt\n",
       "...                           ...     ...                           ...\n",
       "48                          Klaus      C1               Klaus(2019).srt\n",
       "67                 Ocean’s Eleven      C1       Oceans_Eleven(2001).srt\n",
       "68                 Ocean’s Twelve      C1       Oceans_Twelve(2004).srt\n",
       "17           Bridget Jones’s Baby      C1       Bridget_Joness_Baby.srt\n",
       "62                Mona Lisa Smile      C1     Mona_Lisa_Smile(2003).srt\n",
       "\n",
       "[111 rows x 3 columns]"
      ]
     },
     "metadata": {},
     "output_type": "display_data"
    }
   ],
   "source": [
    "for index in labels.index:\n",
    "    item = labels.loc[index, 'Movie']\n",
    "    found = process.extractOne(item, films['parsed_name'])\n",
    "    labels.loc[index, ['found', 'probability', 'index']] = found\n",
    "\n",
    "labels['index'] = labels['index'].astype(int)\n",
    "films = labels.set_index('index').join(films)\n",
    "\n",
    "def getClass(title):\n",
    "    if title.find('C1') >= 0:\n",
    "        return 'C1'\n",
    "    if title.find('B2') >= 0:\n",
    "        return 'B2'\n",
    "    if title.find('B1') >= 0:\n",
    "        return 'B1'\n",
    "    if title.find('A2+') >= 0:\n",
    "        return 'A2/A2+'\n",
    "    \n",
    "films['Level'] = films['Level'].apply(getClass)\n",
    "films = films[['Movie', 'Level', 'name']]\n",
    "films.columns = ['movie', 'level', 'name']\n",
    "display(films)"
   ]
  },
  {
   "attachments": {},
   "cell_type": "markdown",
   "metadata": {},
   "source": [
    "Создаем вспомогательные функции для лемматизации, обучения модели и построения матрицы."
   ]
  },
  {
   "cell_type": "code",
   "execution_count": 84,
   "metadata": {},
   "outputs": [],
   "source": [
    "nlp = spacy.load('en_core_web_sm', disable=['parser', 'ner'])\n",
    "def lemmatize(text):    \n",
    "    doc = nlp(text)\n",
    "    \n",
    "    lemmatized_text = ' '.join(['' if token.is_stop else token.lemma_ for token in doc])\n",
    "    lemmatized_text = re.sub(CLEAN_TEXT, ' ', lemmatized_text)\n",
    "    lemmatized_text = re.sub(SPACES, r'\\1', lemmatized_text)\n",
    "\n",
    "    return lemmatized_text.split('|')"
   ]
  },
  {
   "cell_type": "code",
   "execution_count": 85,
   "metadata": {},
   "outputs": [],
   "source": [
    "def search_best_estimator(pipeline, param_grid, x, y):\n",
    "    hrs = HalvingRandomSearchCV(\n",
    "        estimator=pipeline,\n",
    "        param_distributions=param_grid,\n",
    "        scoring='f1_weighted',\n",
    "        cv=3,\n",
    "        n_candidates=\"exhaust\",\n",
    "        factor=5,\n",
    "        n_jobs=-1,\n",
    "        verbose=2\n",
    "    )\n",
    "    _ = hrs.fit(x, y)\n",
    "    return hrs.best_estimator_"
   ]
  },
  {
   "cell_type": "code",
   "execution_count": 86,
   "metadata": {},
   "outputs": [],
   "source": [
    "def plot_confusion_matrix(y_test, y_preds, model):\n",
    "    fig, ax = plt.subplots(figsize=(8,5))\n",
    "    cm = confusion_matrix(y_test, y_preds)\n",
    "    cmp = ConfusionMatrixDisplay(cm, display_labels = model.classes_ )\n",
    "    cmp.plot(ax=ax)\n",
    "    plt.show()"
   ]
  },
  {
   "cell_type": "code",
   "execution_count": 87,
   "metadata": {},
   "outputs": [],
   "source": [
    "for index in films.index:\n",
    "    name = films.loc[index, 'name']\n",
    "    text = '|'.join(dframes[name]['content'])\n",
    "    result = lemmatize(text)\n",
    "    dframes[name]['content'] = pd.Series(result)"
   ]
  },
  {
   "attachments": {},
   "cell_type": "markdown",
   "metadata": {},
   "source": [
    "Поскольку данных мало увеличим их количество путем разбиения текстов на части, каждой части назначен класс оригинального фильма"
   ]
  },
  {
   "cell_type": "code",
   "execution_count": 88,
   "metadata": {},
   "outputs": [],
   "source": [
    "content = []\n",
    "titles = []\n",
    "mean = []\n",
    "median = []\n",
    "split_factors = 2\n",
    "\n",
    "for name in dframes:\n",
    "    df_content = dframes[name]['content']\n",
    "    size = df_content.size // split_factors\n",
    "    for i in range(split_factors):\n",
    "        titles.append(name)\n",
    "        dframes[name]['content'].str.split(' ').apply(lambda x: len(x)) / (dframes[name].end - dframes[name].start).dt.total_seconds()\n",
    "        df_part = dframes[name][i * size : (i+1) * size]\n",
    "        df_div = df_part['content'].str.split(' ').apply(lambda x: len(x)) / (df_part['end'] - df_part['start']).dt.total_seconds()\n",
    "        mean.append(df_div[(df_div > 0.1) & (df_div < 5)].mean())\n",
    "        median.append(df_div[(df_div > 0.1) & (df_div < 5)].median())\n",
    "        content.append(''.join(df_content[i * size : (i+1) * size]))"
   ]
  },
  {
   "cell_type": "code",
   "execution_count": 89,
   "metadata": {},
   "outputs": [],
   "source": [
    "df_films_splitted = films.merge(pd.DataFrame(data={'name':titles, 'content':content, 'mean': mean, 'median': median}), on='name')\n",
    "df_films_splitted = df_films_splitted[['level', 'content', 'mean', 'median']].reset_index(drop=True)"
   ]
  },
  {
   "cell_type": "code",
   "execution_count": 90,
   "metadata": {},
   "outputs": [
    {
     "data": {
      "text/plain": [
       "B1        80\n",
       "B2        76\n",
       "A2/A2+    50\n",
       "C1        16\n",
       "Name: level, dtype: int64"
      ]
     },
     "execution_count": 90,
     "metadata": {},
     "output_type": "execute_result"
    }
   ],
   "source": [
    "df_films_splitted['level'].value_counts()"
   ]
  },
  {
   "cell_type": "code",
   "execution_count": 91,
   "metadata": {},
   "outputs": [
    {
     "name": "stdout",
     "output_type": "stream",
     "text": [
      "n_iterations: 1\n",
      "n_required_iterations: 1\n",
      "n_possible_iterations: 2\n",
      "min_resources_: 24\n",
      "max_resources_: 222\n",
      "aggressive_elimination: False\n",
      "factor: 5\n",
      "----------\n",
      "iter: 0\n",
      "n_candidates: 1\n",
      "n_resources: 24\n",
      "Fitting 3 folds for each of 1 candidates, totalling 3 fits\n"
     ]
    },
    {
     "name": "stderr",
     "output_type": "stream",
     "text": [
      "c:\\Users\\Kirill\\AppData\\Local\\Programs\\Python\\Python310\\lib\\site-packages\\sklearn\\model_selection\\_search.py:306: UserWarning: The total space of parameters 1 is smaller than n_iter=9. Running 1 iterations. For exhaustive searches, use GridSearchCV.\n",
      "  warnings.warn(\n"
     ]
    },
    {
     "data": {
      "image/png": "[encoded data removed]",
      "text/plain": [
       "<Figure size 800x500 with 2 Axes>"
      ]
     },
     "metadata": {},
     "output_type": "display_data"
    }
   ],
   "source": [
    "x, y = df_films_splitted['content'].tolist(), df_films_splitted['level'].tolist()\n",
    "\n",
    "pipeline = Pipeline(\n",
    "    steps = [(\"tfidf\", TfidfVectorizer() ),(\"base\", RandomForestClassifier() )]\n",
    ")\n",
    "\n",
    "param_grid = {\n",
    "    # \"tfidf__min_df\": [i for i in range(25,35,5)],\n",
    "    # \"base__n_estimators\": [i for i in range(150,250,50)],\n",
    "    # \"base__max_depth\": [i for i in range(25,35,5)],\n",
    "    # \"base__min_samples_split\":[i for i in range(6,10,2)],\n",
    "    # \"base__min_samples_leaf\": [2],\n",
    "}\n",
    "\n",
    "estimator = search_best_estimator(pipeline, param_grid, x, y)\n",
    "\n",
    "X_train, X_test, y_train, y_test = train_test_split(\n",
    "    x, y, random_state=42, test_size=0.3, stratify=y\n",
    ")\n",
    "estimator.fit(X_train, y_train)\n",
    "y_preds = estimator.predict(X_test)\n",
    "plot_confusion_matrix(y_test, y_preds, estimator)"
   ]
  },
  {
   "cell_type": "code",
   "execution_count": 92,
   "metadata": {},
   "outputs": [
    {
     "name": "stdout",
     "output_type": "stream",
     "text": [
      "n_iterations: 1\n",
      "n_required_iterations: 1\n",
      "n_possible_iterations: 1\n",
      "min_resources_: 24\n",
      "max_resources_: 64\n",
      "aggressive_elimination: False\n",
      "factor: 5\n",
      "----------\n",
      "iter: 0\n",
      "n_candidates: 1\n",
      "n_resources: 24\n",
      "Fitting 3 folds for each of 1 candidates, totalling 3 fits\n"
     ]
    },
    {
     "name": "stderr",
     "output_type": "stream",
     "text": [
      "c:\\Users\\Kirill\\AppData\\Local\\Programs\\Python\\Python310\\lib\\site-packages\\sklearn\\model_selection\\_search.py:306: UserWarning: The total space of parameters 1 is smaller than n_iter=2. Running 1 iterations. For exhaustive searches, use GridSearchCV.\n",
      "  warnings.warn(\n"
     ]
    },
    {
     "data": {
      "image/png": "[encoded data removed]",
      "text/plain": [
       "<Figure size 800x500 with 2 Axes>"
      ]
     },
     "metadata": {},
     "output_type": "display_data"
    }
   ],
   "source": [
    "vectorizer = TfidfVectorizer(min_df=30)\n",
    "vectorizer.fit(x)\n",
    "\n",
    "# for i in vectorizer.vocabulary_:\n",
    "#     vectorizer.vocabulary_[i] = vectorizer.vocabulary_[i] * 0.2\n",
    "\n",
    "vect_x = vectorizer.transform(x)\n",
    "\n",
    "nm = NearMiss()\n",
    "X_res, Y_res = nm.fit_resample(vect_x, y)\n",
    "pipeline2 = Pipeline( steps = [(\"base\", RandomForestClassifier() )]  )\n",
    "# CatBoostClassifier(task_type='GPU')\n",
    "param_grid2 = {\n",
    "    # \"base__n_estimators\": [i for i in range(200,300,50)],\n",
    "    # \"base__max_depth\": [i for i in range(25,35,5)],\n",
    "    # \"base__min_samples_split\": [i for i in range(8,12,2)],\n",
    "}\n",
    "estimator2 = search_best_estimator(pipeline2, param_grid2, X_res, Y_res)\n",
    "X_train, X_test, y_train, y_test = train_test_split(\n",
    "    vect_x, y, random_state=42, test_size=0.3, stratify=y\n",
    ")\n",
    "estimator2.fit(X_res, Y_res)\n",
    "y_preds2 = estimator2.predict(X_test)\n",
    "plot_confusion_matrix(y_test, y_preds2, estimator2)"
   ]
  },
  {
   "cell_type": "code",
   "execution_count": 93,
   "metadata": {},
   "outputs": [
    {
     "name": "stdout",
     "output_type": "stream",
     "text": [
      "n_iterations: 1\n",
      "n_required_iterations: 1\n",
      "n_possible_iterations: 1\n",
      "min_resources_: 24\n",
      "max_resources_: 64\n",
      "aggressive_elimination: False\n",
      "factor: 5\n",
      "----------\n",
      "iter: 0\n",
      "n_candidates: 2\n",
      "n_resources: 24\n",
      "Fitting 3 folds for each of 2 candidates, totalling 6 fits\n"
     ]
    },
    {
     "data": {
      "image/png": "[encoded data removed]",
      "text/plain": [
       "<Figure size 800x500 with 2 Axes>"
      ]
     },
     "metadata": {},
     "output_type": "display_data"
    }
   ],
   "source": [
    "vect_x = vectorizer.transform(x)\n",
    "vect_x = sparse.hstack((sparse.csr_matrix(df_films_splitted[['mean','median']].values), vect_x))\n",
    "\n",
    "nm = NearMiss()\n",
    "X_res, Y_res = nm.fit_resample(vect_x, y)\n",
    "pipeline2 = Pipeline( steps = [(\"base\", RandomForestClassifier() )]  )\n",
    "# CatBoostClassifier(task_type='GPU')\n",
    "param_grid2 = {\n",
    "    \"base__n_estimators\": [i for i in range(200,300,10)],\n",
    "    \"base__max_depth\": [i for i in range(30,60,5)],\n",
    "    \"base__min_samples_split\": [i for i in range(2,20,2)],\n",
    "}\n",
    "estimator2 = search_best_estimator(pipeline2, param_grid2, X_res, Y_res)\n",
    "X_train, X_test, y_train, y_test = train_test_split(\n",
    "    vect_x, y, random_state=42, test_size=0.3, stratify=y\n",
    ")\n",
    "estimator2.fit(X_res, Y_res)\n",
    "y_preds2 = estimator2.predict(X_test)\n",
    "plot_confusion_matrix(y_test, y_preds2, estimator2)"
   ]
  },
  {
   "cell_type": "code",
   "execution_count": 100,
   "metadata": {},
   "outputs": [
    {
     "name": "stderr",
     "output_type": "stream",
     "text": [
      "c:\\Users\\Kirill\\AppData\\Local\\Programs\\Python\\Python310\\lib\\site-packages\\sklearn\\utils\\deprecation.py:87: FutureWarning: Function get_feature_names is deprecated; get_feature_names is deprecated in 1.0 and will be removed in 1.2. Please use get_feature_names_out instead.\n",
      "  warnings.warn(msg, category=FutureWarning)\n"
     ]
    },
    {
     "data": {
      "text/html": [
       "<div>\n",
       "<style scoped>\n",
       "    .dataframe tbody tr th:only-of-type {\n",
       "        vertical-align: middle;\n",
       "    }\n",
       "\n",
       "    .dataframe tbody tr th {\n",
       "        vertical-align: top;\n",
       "    }\n",
       "\n",
       "    .dataframe thead th {\n",
       "        text-align: right;\n",
       "    }\n",
       "</style>\n",
       "<table border=\"1\" class=\"dataframe\">\n",
       "  <thead>\n",
       "    <tr style=\"text-align: right;\">\n",
       "      <th></th>\n",
       "      <th>importances</th>\n",
       "    </tr>\n",
       "  </thead>\n",
       "  <tbody>\n",
       "    <tr>\n",
       "      <th>list</th>\n",
       "      <td>0.009962</td>\n",
       "    </tr>\n",
       "    <tr>\n",
       "      <th>been</th>\n",
       "      <td>0.008227</td>\n",
       "    </tr>\n",
       "    <tr>\n",
       "      <th>doe</th>\n",
       "      <td>0.007968</td>\n",
       "    </tr>\n",
       "    <tr>\n",
       "      <th>saying</th>\n",
       "      <td>0.007334</td>\n",
       "    </tr>\n",
       "    <tr>\n",
       "      <th>minute</th>\n",
       "      <td>0.006866</td>\n",
       "    </tr>\n",
       "    <tr>\n",
       "      <th>...</th>\n",
       "      <td>...</td>\n",
       "    </tr>\n",
       "    <tr>\n",
       "      <th>powerful</th>\n",
       "      <td>0.000000</td>\n",
       "    </tr>\n",
       "    <tr>\n",
       "      <th>power</th>\n",
       "      <td>0.000000</td>\n",
       "    </tr>\n",
       "    <tr>\n",
       "      <th>possibly</th>\n",
       "      <td>0.000000</td>\n",
       "    </tr>\n",
       "    <tr>\n",
       "      <th>exactly</th>\n",
       "      <td>0.000000</td>\n",
       "    </tr>\n",
       "    <tr>\n",
       "      <th>learn</th>\n",
       "      <td>0.000000</td>\n",
       "    </tr>\n",
       "  </tbody>\n",
       "</table>\n",
       "<p>1288 rows × 1 columns</p>\n",
       "</div>"
      ],
      "text/plain": [
       "          importances\n",
       "list         0.009962\n",
       "been         0.008227\n",
       "doe          0.007968\n",
       "saying       0.007334\n",
       "minute       0.006866\n",
       "...               ...\n",
       "powerful     0.000000\n",
       "power        0.000000\n",
       "possibly     0.000000\n",
       "exactly      0.000000\n",
       "learn        0.000000\n",
       "\n",
       "[1288 rows x 1 columns]"
      ]
     },
     "execution_count": 100,
     "metadata": {},
     "output_type": "execute_result"
    }
   ],
   "source": [
    "pd.DataFrame(estimator2[0].feature_importances_, index=vectorizer.get_feature_names() + ['mean','median'], columns=['importances']).sort_values(by='importances', ascending=False)"
   ]
  },
  {
   "cell_type": "code",
   "execution_count": 95,
   "metadata": {},
   "outputs": [],
   "source": [
    "# vect_x = vectorizer.transform(x)\n",
    "# vect_x = sparse.hstack((sparse.csr_matrix(df_films_splitted[['mean','median']].values), vect_x))\n",
    "\n",
    "# nm = NearMiss()\n",
    "# X_res, Y_res = nm.fit_resample(vect_x, y)\n",
    "# pipeline2 = Pipeline( steps = [(\"base\", CatBoostClassifier(task_type='GPU', verbose=100) )]  )\n",
    "# # CatBoostClassifier(task_type='GPU')\n",
    "# param_grid2 = {\n",
    "#     # \"base__n_estimators\": [i for i in range(200,300,50)],\n",
    "#     # \"base__max_depth\": [i for i in range(25,35,5)],\n",
    "#     # \"base__min_samples_split\": [i for i in range(8,12,2)],\n",
    "# }\n",
    "# estimator2 = search_best_estimator(pipeline2, param_grid2, X_res, Y_res)\n",
    "# X_train, X_test, y_train, y_test = train_test_split(\n",
    "#     vect_x, y, random_state=42, test_size=0.3, stratify=y\n",
    "# )\n",
    "# estimator2.fit(X_res, Y_res)\n",
    "# y_preds2 = estimator2.predict(X_test)\n",
    "# plot_confusion_matrix(y_test, y_preds2, estimator2)"
   ]
  },
  {
   "cell_type": "code",
   "execution_count": 96,
   "metadata": {},
   "outputs": [
    {
     "name": "stdout",
     "output_type": "stream",
     "text": [
      "              precision    recall  f1-score   support\n",
      "\n",
      "          C1       0.80      0.27      0.40        15\n",
      "          B2       0.37      0.58      0.45        24\n",
      "          B1       0.42      0.43      0.43        23\n",
      "      A2/A2+       0.00      0.00      0.00         5\n",
      "\n",
      "    accuracy                           0.42        67\n",
      "   macro avg       0.40      0.32      0.32        67\n",
      "weighted avg       0.45      0.42      0.40        67\n",
      "\n"
     ]
    },
    {
     "name": "stderr",
     "output_type": "stream",
     "text": [
      "c:\\Users\\Kirill\\AppData\\Local\\Programs\\Python\\Python310\\lib\\site-packages\\sklearn\\metrics\\_classification.py:1334: UndefinedMetricWarning: Precision and F-score are ill-defined and being set to 0.0 in labels with no predicted samples. Use `zero_division` parameter to control this behavior.\n",
      "  _warn_prf(average, modifier, msg_start, len(result))\n",
      "c:\\Users\\Kirill\\AppData\\Local\\Programs\\Python\\Python310\\lib\\site-packages\\sklearn\\metrics\\_classification.py:1334: UndefinedMetricWarning: Precision and F-score are ill-defined and being set to 0.0 in labels with no predicted samples. Use `zero_division` parameter to control this behavior.\n",
      "  _warn_prf(average, modifier, msg_start, len(result))\n",
      "c:\\Users\\Kirill\\AppData\\Local\\Programs\\Python\\Python310\\lib\\site-packages\\sklearn\\metrics\\_classification.py:1334: UndefinedMetricWarning: Precision and F-score are ill-defined and being set to 0.0 in labels with no predicted samples. Use `zero_division` parameter to control this behavior.\n",
      "  _warn_prf(average, modifier, msg_start, len(result))\n"
     ]
    }
   ],
   "source": [
    "report = classification_report(y_test, y_preds, target_names=[\n",
    "    'C1',\n",
    "    'B2',\n",
    "    'B1',\n",
    "    'A2/A2+'\n",
    "])\n",
    "print(report)"
   ]
  },
  {
   "cell_type": "code",
   "execution_count": 97,
   "metadata": {},
   "outputs": [
    {
     "name": "stdout",
     "output_type": "stream",
     "text": [
      "              precision    recall  f1-score   support\n",
      "\n",
      "          C1       0.35      0.40      0.38        15\n",
      "          B2       0.56      0.42      0.48        24\n",
      "          B1       0.54      0.30      0.39        23\n",
      "      A2/A2+       0.26      1.00      0.42         5\n",
      "\n",
      "    accuracy                           0.42        67\n",
      "   macro avg       0.43      0.53      0.41        67\n",
      "weighted avg       0.48      0.42      0.42        67\n",
      "\n"
     ]
    }
   ],
   "source": [
    "report = classification_report(y_test, y_preds2, target_names=[\n",
    "    'C1',\n",
    "    'B2',\n",
    "    'B1',\n",
    "    'A2/A2+'\n",
    "])\n",
    "print(report)"
   ]
  },
  {
   "cell_type": "code",
   "execution_count": 98,
   "metadata": {},
   "outputs": [],
   "source": [
    "# https://stackoverflow.com/a/69678207\n",
    "# https://habr.com/ru/post/702626/"
   ]
  }
 ],
 "metadata": {
  "kernelspec": {
   "display_name": "Python 3",
   "language": "python",
   "name": "python3"
  },
  "language_info": {
   "codemirror_mode": {
    "name": "ipython",
    "version": 3
   },
   "file_extension": ".py",
   "mimetype": "text/x-python",
   "name": "python",
   "nbconvert_exporter": "python",
   "pygments_lexer": "ipython3",
   "version": "3.10.6"
  },
  "orig_nbformat": 4,
  "vscode": {
   "interpreter": {
    "hash": "4ae014aa0c140bf18c89a580af6667d9b98d6bbe24021bb45f64159ca85cd197"
   }
  }
 },
 "nbformat": 4,
 "nbformat_minor": 2
}
