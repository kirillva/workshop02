{
 "cells": [
  {
   "cell_type": "code",
   "execution_count": 37,
   "metadata": {},
   "outputs": [],
   "source": [
    "import re\n",
    "import srt \n",
    "import glob\n",
    "import pandas as pd\n",
    "import os\n",
    "import numpy as np\n",
    "from fuzzywuzzy import fuzz\n",
    "from fuzzywuzzy import process\n",
    "\n",
    "import spacy\n",
    "\n",
    "from sklearn.experimental import enable_halving_search_cv\n",
    "from sklearn.model_selection import (\n",
    "    train_test_split,\n",
    "    HalvingRandomSearchCV,\n",
    "    GridSearchCV\n",
    ")\n",
    "from sklearn.metrics import (\n",
    "    ConfusionMatrixDisplay, confusion_matrix,\n",
    "    f1_score, roc_auc_score,\n",
    "    classification_report, make_scorer\n",
    ")\n",
    "\n",
    "import matplotlib.pyplot as plt\n",
    "\n",
    "from sklearn.feature_extraction.text import TfidfVectorizer\n",
    "from sklearn.pipeline import Pipeline, make_pipeline\n",
    "\n",
    "from sklearn.ensemble import RandomForestClassifier\n",
    "\n",
    "from imblearn.under_sampling import NearMiss \n",
    "\n",
    "from catboost import CatBoostClassifier, CatBoostRegressor, Pool\n",
    "\n",
    "from sklearn.feature_extraction.text import CountVectorizer\n",
    "from scipy import sparse"
   ]
  },
  {
   "attachments": {},
   "cell_type": "markdown",
   "metadata": {},
   "source": []
  },
  {
   "cell_type": "code",
   "execution_count": 38,
   "metadata": {},
   "outputs": [],
   "source": [
    "DATA_PATH = 'English_level/data_all'\n",
    "\n",
    "HTML = r'<.*?>'\n",
    "TAG = r'{.*?}'\n",
    "COMMENTS = r'[\\(\\[][A-Z ]+[\\)\\]]'\n",
    "LETTERS = r'[^a-zA-Z\\'.,!? ]'\n",
    "SPACES = r'([ ])\\1+'\n",
    "DOTS = r'[\\.]+'\n",
    "\n",
    "YEAR_SRT = r'(\\(\\d{4}\\))'\n",
    "CLEAN_TEXT = r'[^a-z\\s\\|]'\n",
    "\n",
    "def clean_subs(subs):\n",
    "    txt = re.sub(HTML, ' ', subs) #html тэги меняем на пробел\n",
    "    txt = re.sub(TAG, ' ', txt) #тэги меняем на пробел\n",
    "    txt = re.sub(COMMENTS, ' ', txt) #комменты меняем на пробел\n",
    "    txt = re.sub(LETTERS, ' ', txt) #все что не буквы меняем на пробел\n",
    "    txt = re.sub(SPACES, r'\\1', txt) #повторяющиеся пробелы меняем на один пробел\n",
    "    txt = re.sub(DOTS, r'.', txt)  #многоточие меняем на точку\n",
    "    return txt"
   ]
  },
  {
   "attachments": {},
   "cell_type": "markdown",
   "metadata": {},
   "source": [
    "### Предобработка данных\n",
    "\n",
    "Читаем файлы, создаем переменные:\n",
    "dframes - обьект, связывающий имена файлов с датафреймами субтитров.\n",
    "films - датафрейм с именами фильмов и классификацией"
   ]
  },
  {
   "cell_type": "code",
   "execution_count": 39,
   "metadata": {},
   "outputs": [],
   "source": [
    "dframes = {}\n",
    "files = glob.glob(f'{DATA_PATH}/Subtitles_all/*.srt')\n",
    "\n",
    "for filename in files:\n",
    "    try:\n",
    "        with open(filename) as f:\n",
    "            #удаляем все что не ascii символы   \n",
    "            subtitle_generator = srt.parse(f.read().encode('ascii', 'ignore').decode())\n",
    "            #удаляем первый и последний субтитр (обычно это реклама)\n",
    "            df = pd.DataFrame(list([[item.start, item.end, item.content] for item in subtitle_generator][1:-1]), columns=['start','end','content'])\n",
    "            df['content'] = df['content'].apply(clean_subs)\n",
    "            df['content'] = df['content'].str.strip().replace('', np.nan).str.lower()\n",
    "            df.dropna(subset=['content'], inplace=True)\n",
    "            df.reset_index(drop=True, inplace=True)\n",
    "\n",
    "            dframes[os.path.basename(f.name)] = df\n",
    "\n",
    "    except srt.SRTParseError as e:\n",
    "        print(filename, e)\n",
    "        \n",
    "films = pd.DataFrame([n for n in dframes], columns=['name'])\n",
    "films['year'] = films['name'].str.extract(YEAR_SRT, flags=0)\n",
    "films['parsed_name'] = films.apply(lambda x: x['name'].replace(str(x['year']), '').replace('_', ' ').replace('.srt', ''), axis=1)\n",
    "\n",
    "labels = pd.read_csv(f'{DATA_PATH}/labels_all.csv')"
   ]
  },
  {
   "cell_type": "code",
   "execution_count": 40,
   "metadata": {},
   "outputs": [
    {
     "data": {
      "text/html": [
       "<div>\n",
       "<style scoped>\n",
       "    .dataframe tbody tr th:only-of-type {\n",
       "        vertical-align: middle;\n",
       "    }\n",
       "\n",
       "    .dataframe tbody tr th {\n",
       "        vertical-align: top;\n",
       "    }\n",
       "\n",
       "    .dataframe thead th {\n",
       "        text-align: right;\n",
       "    }\n",
       "</style>\n",
       "<table border=\"1\" class=\"dataframe\">\n",
       "  <thead>\n",
       "    <tr style=\"text-align: right;\">\n",
       "      <th></th>\n",
       "      <th>name</th>\n",
       "      <th>year</th>\n",
       "      <th>parsed_name</th>\n",
       "    </tr>\n",
       "  </thead>\n",
       "  <tbody>\n",
       "    <tr>\n",
       "      <th>0</th>\n",
       "      <td>10_Cloverfield_lane(2016).srt</td>\n",
       "      <td>(2016)</td>\n",
       "      <td>10 Cloverfield lane</td>\n",
       "    </tr>\n",
       "    <tr>\n",
       "      <th>1</th>\n",
       "      <td>10_things_I_hate_about_you(1999).srt</td>\n",
       "      <td>(1999)</td>\n",
       "      <td>10 things I hate about you</td>\n",
       "    </tr>\n",
       "    <tr>\n",
       "      <th>2</th>\n",
       "      <td>Aladdin(1992).srt</td>\n",
       "      <td>(1992)</td>\n",
       "      <td>Aladdin</td>\n",
       "    </tr>\n",
       "    <tr>\n",
       "      <th>3</th>\n",
       "      <td>All_dogs_go_to_heaven(1989).srt</td>\n",
       "      <td>(1989)</td>\n",
       "      <td>All dogs go to heaven</td>\n",
       "    </tr>\n",
       "    <tr>\n",
       "      <th>4</th>\n",
       "      <td>An_American_tail(1986).srt</td>\n",
       "      <td>(1986)</td>\n",
       "      <td>An American tail</td>\n",
       "    </tr>\n",
       "    <tr>\n",
       "      <th>...</th>\n",
       "      <td>...</td>\n",
       "      <td>...</td>\n",
       "      <td>...</td>\n",
       "    </tr>\n",
       "    <tr>\n",
       "      <th>112</th>\n",
       "      <td>Warm_bodies(2013).srt</td>\n",
       "      <td>(2013)</td>\n",
       "      <td>Warm bodies</td>\n",
       "    </tr>\n",
       "    <tr>\n",
       "      <th>113</th>\n",
       "      <td>Westworld_scenes_of_Dr_Robert_Ford.srt</td>\n",
       "      <td>NaN</td>\n",
       "      <td>Westworld scenes of Dr Robert Ford</td>\n",
       "    </tr>\n",
       "    <tr>\n",
       "      <th>114</th>\n",
       "      <td>We_are_the_Millers(2013).srt</td>\n",
       "      <td>(2013)</td>\n",
       "      <td>We are the Millers</td>\n",
       "    </tr>\n",
       "    <tr>\n",
       "      <th>115</th>\n",
       "      <td>While_You_Were_Sleeping(1995).srt</td>\n",
       "      <td>(1995)</td>\n",
       "      <td>While You Were Sleeping</td>\n",
       "    </tr>\n",
       "    <tr>\n",
       "      <th>116</th>\n",
       "      <td>Zootopia(2016).srt</td>\n",
       "      <td>(2016)</td>\n",
       "      <td>Zootopia</td>\n",
       "    </tr>\n",
       "  </tbody>\n",
       "</table>\n",
       "<p>117 rows × 3 columns</p>\n",
       "</div>"
      ],
      "text/plain": [
       "                                       name    year  \\\n",
       "0             10_Cloverfield_lane(2016).srt  (2016)   \n",
       "1      10_things_I_hate_about_you(1999).srt  (1999)   \n",
       "2                         Aladdin(1992).srt  (1992)   \n",
       "3           All_dogs_go_to_heaven(1989).srt  (1989)   \n",
       "4                An_American_tail(1986).srt  (1986)   \n",
       "..                                      ...     ...   \n",
       "112                   Warm_bodies(2013).srt  (2013)   \n",
       "113  Westworld_scenes_of_Dr_Robert_Ford.srt     NaN   \n",
       "114            We_are_the_Millers(2013).srt  (2013)   \n",
       "115       While_You_Were_Sleeping(1995).srt  (1995)   \n",
       "116                      Zootopia(2016).srt  (2016)   \n",
       "\n",
       "                            parsed_name  \n",
       "0                   10 Cloverfield lane  \n",
       "1            10 things I hate about you  \n",
       "2                               Aladdin  \n",
       "3                 All dogs go to heaven  \n",
       "4                      An American tail  \n",
       "..                                  ...  \n",
       "112                         Warm bodies  \n",
       "113  Westworld scenes of Dr Robert Ford  \n",
       "114                  We are the Millers  \n",
       "115             While You Were Sleeping  \n",
       "116                            Zootopia  \n",
       "\n",
       "[117 rows x 3 columns]"
      ]
     },
     "execution_count": 40,
     "metadata": {},
     "output_type": "execute_result"
    }
   ],
   "source": [
    "films"
   ]
  },
  {
   "cell_type": "code",
   "execution_count": 41,
   "metadata": {},
   "outputs": [
    {
     "data": {
      "text/html": [
       "<div>\n",
       "<style scoped>\n",
       "    .dataframe tbody tr th:only-of-type {\n",
       "        vertical-align: middle;\n",
       "    }\n",
       "\n",
       "    .dataframe tbody tr th {\n",
       "        vertical-align: top;\n",
       "    }\n",
       "\n",
       "    .dataframe thead th {\n",
       "        text-align: right;\n",
       "    }\n",
       "</style>\n",
       "<table border=\"1\" class=\"dataframe\">\n",
       "  <thead>\n",
       "    <tr style=\"text-align: right;\">\n",
       "      <th></th>\n",
       "      <th>movie</th>\n",
       "      <th>level</th>\n",
       "      <th>name</th>\n",
       "    </tr>\n",
       "    <tr>\n",
       "      <th>index</th>\n",
       "      <th></th>\n",
       "      <th></th>\n",
       "      <th></th>\n",
       "    </tr>\n",
       "  </thead>\n",
       "  <tbody>\n",
       "    <tr>\n",
       "      <th>37</th>\n",
       "      <td>Forrest Gump</td>\n",
       "      <td>B1</td>\n",
       "      <td>Forrest_Gump(1994).srt</td>\n",
       "    </tr>\n",
       "    <tr>\n",
       "      <th>36</th>\n",
       "      <td>Finding Nemo\\n</td>\n",
       "      <td>A2/A2+</td>\n",
       "      <td>Finding_Nemo(2003).srt</td>\n",
       "    </tr>\n",
       "    <tr>\n",
       "      <th>21</th>\n",
       "      <td>Cast away\\n</td>\n",
       "      <td>A2/A2+</td>\n",
       "      <td>Cast_away(2000).srt</td>\n",
       "    </tr>\n",
       "    <tr>\n",
       "      <th>91</th>\n",
       "      <td>The invisible man (2020)\\n</td>\n",
       "      <td>A2/A2+</td>\n",
       "      <td>The_invisible_man(2020).srt</td>\n",
       "    </tr>\n",
       "    <tr>\n",
       "      <th>8</th>\n",
       "      <td>Back to the future\\n</td>\n",
       "      <td>A2/A2+</td>\n",
       "      <td>Back_to_the_future(1985).srt</td>\n",
       "    </tr>\n",
       "    <tr>\n",
       "      <th>...</th>\n",
       "      <td>...</td>\n",
       "      <td>...</td>\n",
       "      <td>...</td>\n",
       "    </tr>\n",
       "    <tr>\n",
       "      <th>48</th>\n",
       "      <td>Klaus</td>\n",
       "      <td>C1</td>\n",
       "      <td>Klaus(2019).srt</td>\n",
       "    </tr>\n",
       "    <tr>\n",
       "      <th>67</th>\n",
       "      <td>Ocean’s Eleven</td>\n",
       "      <td>C1</td>\n",
       "      <td>Oceans_Eleven(2001).srt</td>\n",
       "    </tr>\n",
       "    <tr>\n",
       "      <th>68</th>\n",
       "      <td>Ocean’s Twelve</td>\n",
       "      <td>C1</td>\n",
       "      <td>Oceans_Twelve(2004).srt</td>\n",
       "    </tr>\n",
       "    <tr>\n",
       "      <th>17</th>\n",
       "      <td>Bridget Jones’s Baby</td>\n",
       "      <td>C1</td>\n",
       "      <td>Bridget_Joness_Baby.srt</td>\n",
       "    </tr>\n",
       "    <tr>\n",
       "      <th>62</th>\n",
       "      <td>Mona Lisa Smile</td>\n",
       "      <td>C1</td>\n",
       "      <td>Mona_Lisa_Smile(2003).srt</td>\n",
       "    </tr>\n",
       "  </tbody>\n",
       "</table>\n",
       "<p>111 rows × 3 columns</p>\n",
       "</div>"
      ],
      "text/plain": [
       "                            movie   level                          name\n",
       "index                                                                  \n",
       "37                   Forrest Gump      B1        Forrest_Gump(1994).srt\n",
       "36                 Finding Nemo\\n  A2/A2+        Finding_Nemo(2003).srt\n",
       "21                    Cast away\\n  A2/A2+           Cast_away(2000).srt\n",
       "91     The invisible man (2020)\\n  A2/A2+   The_invisible_man(2020).srt\n",
       "8            Back to the future\\n  A2/A2+  Back_to_the_future(1985).srt\n",
       "...                           ...     ...                           ...\n",
       "48                          Klaus      C1               Klaus(2019).srt\n",
       "67                 Ocean’s Eleven      C1       Oceans_Eleven(2001).srt\n",
       "68                 Ocean’s Twelve      C1       Oceans_Twelve(2004).srt\n",
       "17           Bridget Jones’s Baby      C1       Bridget_Joness_Baby.srt\n",
       "62                Mona Lisa Smile      C1     Mona_Lisa_Smile(2003).srt\n",
       "\n",
       "[111 rows x 3 columns]"
      ]
     },
     "metadata": {},
     "output_type": "display_data"
    }
   ],
   "source": [
    "for index in labels.index:\n",
    "    item = labels.loc[index, 'Movie']\n",
    "    found = process.extractOne(item, films['parsed_name'])\n",
    "    labels.loc[index, ['found', 'probability', 'index']] = found\n",
    "\n",
    "labels['index'] = labels['index'].astype(int)\n",
    "films = labels.set_index('index').join(films)\n",
    "\n",
    "def getClass(title):\n",
    "    if title.find('C1') >= 0:\n",
    "        return 'C1'\n",
    "    if title.find('B2') >= 0:\n",
    "        return 'B2'\n",
    "    if title.find('B1') >= 0:\n",
    "        return 'B1'\n",
    "    if title.find('A2+') >= 0:\n",
    "        return 'A2/A2+'\n",
    "    \n",
    "films['Level'] = films['Level'].apply(getClass)\n",
    "films = films[['Movie', 'Level', 'name']]\n",
    "films.columns = ['movie', 'level', 'name']\n",
    "display(films)"
   ]
  },
  {
   "attachments": {},
   "cell_type": "markdown",
   "metadata": {},
   "source": [
    "Создаем вспомогательные функции для лемматизации, обучения модели и построения матрицы."
   ]
  },
  {
   "cell_type": "code",
   "execution_count": 42,
   "metadata": {},
   "outputs": [],
   "source": [
    "nlp = spacy.load('en_core_web_lg')\n",
    "def lemmatize(text):    \n",
    "    doc = nlp(text)\n",
    "    \n",
    "    lemmatized_text = ' '.join(['' if token.is_stop else token.lemma_ for token in doc])\n",
    "    lemmatized_text = re.sub(CLEAN_TEXT, ' ', lemmatized_text)\n",
    "    lemmatized_text = re.sub(SPACES, r'\\1', lemmatized_text)\n",
    "\n",
    "    return lemmatized_text\n",
    "\n",
    "def remove_names(text):\n",
    "    doc = nlp(text)\n",
    "    newString = text\n",
    "    for e in reversed(doc.ents):\n",
    "        if e.label_ == \"PERSON\": # Only if the entity is a PERSON\n",
    "            newString = newString[:e.start_char] + newString[e.start_char + len(e.text):]\n",
    "    return newString"
   ]
  },
  {
   "cell_type": "code",
   "execution_count": 43,
   "metadata": {},
   "outputs": [],
   "source": [
    "def search_best_estimator(pipeline, param_grid, x, y):\n",
    "    hrs = GridSearchCV(\n",
    "        estimator=pipeline,\n",
    "        param_grid=param_grid,\n",
    "        scoring='f1_weighted',\n",
    "        cv=3,\n",
    "        # n_candidates=\"exhaust\",\n",
    "        # factor=5,\n",
    "        n_jobs=-1,\n",
    "        verbose=2\n",
    "    )\n",
    "    _ = hrs.fit(x, y)\n",
    "    return hrs.best_estimator_, hrs.best_params_"
   ]
  },
  {
   "cell_type": "code",
   "execution_count": 44,
   "metadata": {},
   "outputs": [],
   "source": [
    "def plot_confusion_matrix(y_test, y_preds, model):\n",
    "    fig, ax = plt.subplots(figsize=(8,5))\n",
    "    cm = confusion_matrix(y_test, y_preds)\n",
    "    cmp = ConfusionMatrixDisplay(cm, display_labels = model.classes_ )\n",
    "    cmp.plot(ax=ax)\n",
    "    plt.show()"
   ]
  },
  {
   "cell_type": "code",
   "execution_count": 45,
   "metadata": {},
   "outputs": [],
   "source": [
    "for index in films.index:\n",
    "    name = films.loc[index, 'name']\n",
    "    text = '|'.join(dframes[name]['content'])\n",
    "    result = remove_names(lemmatize(text)).split('|')\n",
    "    dframes[name]['content'] = pd.Series(result)\n",
    "    dframes[name] = dframes[name].dropna(subset=['content']).reset_index(drop=True)"
   ]
  },
  {
   "cell_type": "code",
   "execution_count": 46,
   "metadata": {},
   "outputs": [],
   "source": [
    "content = []\n",
    "titles = []\n",
    "mean = []\n",
    "median = []\n",
    "split_factors = 1\n",
    "\n",
    "for name in dframes:\n",
    "    df_content = dframes[name]['content']\n",
    "    size = df_content.size // split_factors\n",
    "    for i in range(split_factors):\n",
    "        titles.append(name)\n",
    "        dframes[name]['content'].str.split(' ').apply(lambda x: len(x)) / (dframes[name].end - dframes[name].start).dt.total_seconds()\n",
    "        df_part = dframes[name][i * size : (i+1) * size]\n",
    "        df_div = df_part['content'].str.split(' ').apply(lambda x: len(x)) / (df_part['end'] - df_part['start']).dt.total_seconds()\n",
    "        mean.append(df_div[(df_div > 0.1) & (df_div < 5)].mean())\n",
    "        median.append(df_div[(df_div > 0.1) & (df_div < 5)].median())\n",
    "        content.append(''.join(df_content[i * size : (i+1) * size]))"
   ]
  },
  {
   "cell_type": "code",
   "execution_count": 47,
   "metadata": {},
   "outputs": [],
   "source": [
    "df_films_splitted = films.merge(pd.DataFrame(data={'name':titles, 'content':content, 'mean': mean, 'median': median}), on='name')\n",
    "df_films_splitted = df_films_splitted[['name', 'level', 'content', 'mean', 'median']].reset_index(drop=True)"
   ]
  },
  {
   "cell_type": "code",
   "execution_count": 48,
   "metadata": {},
   "outputs": [
    {
     "data": {
      "text/plain": [
       "B1        40\n",
       "B2        38\n",
       "A2/A2+    25\n",
       "C1         8\n",
       "Name: level, dtype: int64"
      ]
     },
     "execution_count": 48,
     "metadata": {},
     "output_type": "execute_result"
    }
   ],
   "source": [
    "df_films_splitted['level'].value_counts()"
   ]
  },
  {
   "cell_type": "code",
   "execution_count": 49,
   "metadata": {},
   "outputs": [],
   "source": [
    "words = pd.read_csv(f'Parsed/words.csv', index_col=[0])"
   ]
  },
  {
   "cell_type": "code",
   "execution_count": 72,
   "metadata": {},
   "outputs": [
    {
     "name": "stdout",
     "output_type": "stream",
     "text": [
      "Fitting 3 folds for each of 28 candidates, totalling 84 fits\n"
     ]
    },
    {
     "data": {
      "image/png": "[encoded data removed]",
      "text/plain": [
       "<Figure size 800x500 with 2 Axes>"
      ]
     },
     "metadata": {},
     "output_type": "display_data"
    },
    {
     "name": "stdout",
     "output_type": "stream",
     "text": [
      "{'tfidf__max_df': 800, 'tfidf__min_df': 45}\n"
     ]
    }
   ],
   "source": [
    "x, y = df_films_splitted['content'].tolist(), df_films_splitted['level'].tolist()\n",
    "\n",
    "# vocabulary=words['name'].str.strip().str.lower().unique()\n",
    "pipeline = Pipeline(\n",
    "    steps = [(\"tfidf\", TfidfVectorizer() ),(\"base\", RandomForestClassifier() )]\n",
    ")\n",
    "\n",
    "param_grid = {\n",
    "    \"tfidf__min_df\": [i for i in range(30,50,5)],\n",
    "    \"tfidf__max_df\": [i for i in range(300,1000,100)],\n",
    "    # \"base__n_estimators\": [i for i in range(150,250,50)],\n",
    "    # \"base__max_depth\": [i for i in range(25,35,5)],\n",
    "    # \"base__min_samples_split\":[i for i in range(6,10,2)],\n",
    "    # \"base__min_samples_leaf\": [2],\n",
    "}\n",
    "\n",
    "estimator, best_params = search_best_estimator(pipeline, param_grid, x, y)\n",
    "\n",
    "X_train, X_test, y_train, y_test = train_test_split(\n",
    "    x, y, random_state=42, test_size=0.3, stratify=y\n",
    ")\n",
    "estimator.fit(X_train, y_train)\n",
    "y_preds = estimator.predict(X_test)\n",
    "plot_confusion_matrix(y_test, y_preds, estimator)\n",
    "\n",
    "# print(len(list(estimator[0].vocabulary_)))\n",
    "print(best_params)"
   ]
  },
  {
   "cell_type": "code",
   "execution_count": 51,
   "metadata": {},
   "outputs": [
    {
     "name": "stdout",
     "output_type": "stream",
     "text": [
      "              precision    recall  f1-score   support\n",
      "\n",
      "          C1       0.00      0.00      0.00         8\n",
      "          B2       0.29      0.42      0.34        12\n",
      "          B1       0.29      0.42      0.34        12\n",
      "      A2/A2+       0.00      0.00      0.00         2\n",
      "\n",
      "    accuracy                           0.29        34\n",
      "   macro avg       0.15      0.21      0.17        34\n",
      "weighted avg       0.21      0.29      0.24        34\n",
      "\n"
     ]
    },
    {
     "name": "stderr",
     "output_type": "stream",
     "text": [
      "c:\\Users\\Kirill\\AppData\\Local\\Programs\\Python\\Python310\\lib\\site-packages\\sklearn\\metrics\\_classification.py:1334: UndefinedMetricWarning: Precision and F-score are ill-defined and being set to 0.0 in labels with no predicted samples. Use `zero_division` parameter to control this behavior.\n",
      "  _warn_prf(average, modifier, msg_start, len(result))\n",
      "c:\\Users\\Kirill\\AppData\\Local\\Programs\\Python\\Python310\\lib\\site-packages\\sklearn\\metrics\\_classification.py:1334: UndefinedMetricWarning: Precision and F-score are ill-defined and being set to 0.0 in labels with no predicted samples. Use `zero_division` parameter to control this behavior.\n",
      "  _warn_prf(average, modifier, msg_start, len(result))\n",
      "c:\\Users\\Kirill\\AppData\\Local\\Programs\\Python\\Python310\\lib\\site-packages\\sklearn\\metrics\\_classification.py:1334: UndefinedMetricWarning: Precision and F-score are ill-defined and being set to 0.0 in labels with no predicted samples. Use `zero_division` parameter to control this behavior.\n",
      "  _warn_prf(average, modifier, msg_start, len(result))\n"
     ]
    }
   ],
   "source": [
    "report = classification_report(y_test, y_preds, target_names=[\n",
    "    'C1',\n",
    "    'B2',\n",
    "    'B1',\n",
    "    'A2/A2+'\n",
    "])\n",
    "print(report)"
   ]
  },
  {
   "cell_type": "code",
   "execution_count": 73,
   "metadata": {},
   "outputs": [
    {
     "name": "stdout",
     "output_type": "stream",
     "text": [
      " Model F1-score: 0.3858169934640523\n"
     ]
    }
   ],
   "source": [
    "print( f' Model F1-score: {f1_score(y_test, y_preds, average=\"weighted\")}' )"
   ]
  },
  {
   "cell_type": "code",
   "execution_count": 74,
   "metadata": {},
   "outputs": [
    {
     "name": "stdout",
     "output_type": "stream",
     "text": [
      "Fitting 3 folds for each of 20 candidates, totalling 60 fits\n"
     ]
    },
    {
     "data": {
      "image/png": "[encoded data removed]",
      "text/plain": [
       "<Figure size 800x500 with 2 Axes>"
      ]
     },
     "metadata": {},
     "output_type": "display_data"
    },
    {
     "name": "stdout",
     "output_type": "stream",
     "text": [
      "{'base__max_depth': 20, 'base__min_samples_leaf': 2, 'base__min_samples_split': 2, 'base__n_estimators': 150}\n"
     ]
    }
   ],
   "source": [
    "# vocabulary=words['name'].unique()\n",
    "# \n",
    "vectorizer = TfidfVectorizer(**estimator[0].get_params(deep=True))\n",
    "vectorizer.fit(x)\n",
    "\n",
    "vect_x = vectorizer.transform(x)\n",
    "\n",
    "nm = NearMiss()\n",
    "X_res, Y_res = nm.fit_resample(vect_x, y)\n",
    "pipeline2 = Pipeline( steps = [(\"base\", RandomForestClassifier() )]  )\n",
    "# CatBoostClassifier(task_type='GPU')\n",
    "param_grid2 = {\n",
    "    \"base__n_estimators\": [i for i in range(150,250,50)],\n",
    "    \"base__max_depth\": [i for i in range(10,60,5)],\n",
    "    \"base__min_samples_split\":[i for i in range(2,4,2)],\n",
    "    \"base__min_samples_leaf\": [2],\n",
    "}\n",
    "estimator2, best_params2 = search_best_estimator(pipeline2, param_grid2, X_res, Y_res)\n",
    "X_train, X_test, y_train, y_test = train_test_split(\n",
    "    vect_x, y, random_state=42, test_size=0.3, stratify=y\n",
    ")\n",
    "estimator2.fit(X_res, Y_res)\n",
    "y_preds2 = estimator2.predict(X_test)\n",
    "plot_confusion_matrix(y_test, y_preds2, estimator2)\n",
    "print(best_params2)"
   ]
  },
  {
   "cell_type": "code",
   "execution_count": 75,
   "metadata": {},
   "outputs": [
    {
     "name": "stdout",
     "output_type": "stream",
     "text": [
      "              precision    recall  f1-score   support\n",
      "\n",
      "          C1       0.47      0.88      0.61         8\n",
      "          B2       0.73      0.67      0.70        12\n",
      "          B1       1.00      0.25      0.40        12\n",
      "      A2/A2+       0.40      1.00      0.57         2\n",
      "\n",
      "    accuracy                           0.59        34\n",
      "   macro avg       0.65      0.70      0.57        34\n",
      "weighted avg       0.74      0.59      0.56        34\n",
      "\n"
     ]
    }
   ],
   "source": [
    "report = classification_report(y_test, y_preds2, target_names=[\n",
    "    'C1',\n",
    "    'B2',\n",
    "    'B1',\n",
    "    'A2/A2+'\n",
    "])\n",
    "print(report)"
   ]
  },
  {
   "cell_type": "code",
   "execution_count": 76,
   "metadata": {},
   "outputs": [
    {
     "name": "stdout",
     "output_type": "stream",
     "text": [
      " Model F1-score: 0.5635367190354402\n"
     ]
    }
   ],
   "source": [
    "print( f' Model F1-score: {f1_score(y_test, y_preds2, average=\"weighted\")}' )"
   ]
  },
  {
   "cell_type": "code",
   "execution_count": 77,
   "metadata": {},
   "outputs": [
    {
     "name": "stdout",
     "output_type": "stream",
     "text": [
      "Fitting 3 folds for each of 8 candidates, totalling 24 fits\n"
     ]
    },
    {
     "data": {
      "image/png": "[encoded data removed]",
      "text/plain": [
       "<Figure size 800x500 with 2 Axes>"
      ]
     },
     "metadata": {},
     "output_type": "display_data"
    },
    {
     "name": "stdout",
     "output_type": "stream",
     "text": [
      "{'base__max_depth': 30, 'base__min_samples_leaf': 2, 'base__min_samples_split': 8, 'base__n_estimators': 150}\n"
     ]
    }
   ],
   "source": [
    "vect_x = vectorizer.transform(x)\n",
    "vect_x = sparse.hstack((sparse.csr_matrix(df_films_splitted[['mean','median']].values), vect_x))\n",
    "\n",
    "nm = NearMiss()\n",
    "X_res, Y_res = nm.fit_resample(vect_x, y)\n",
    "pipeline3 = Pipeline( steps = [(\"base\", RandomForestClassifier() )]  )\n",
    "\n",
    "param_grid3 = {\n",
    "    \"base__n_estimators\": [i for i in range(150,250,50)],\n",
    "    \"base__max_depth\": [i for i in range(25,35,5)],\n",
    "    \"base__min_samples_split\":[i for i in range(6,10,2)],\n",
    "    \"base__min_samples_leaf\": [2],\n",
    "}\n",
    "estimator3, best_params3 = search_best_estimator(pipeline3, param_grid3, X_res, Y_res)\n",
    "X_train, X_test, y_train, y_test = train_test_split(\n",
    "    vect_x, y, random_state=42, test_size=0.3, stratify=y\n",
    ")\n",
    "estimator3.fit(X_res, Y_res)\n",
    "y_preds3 = estimator3.predict(X_test)\n",
    "plot_confusion_matrix(y_test, y_preds3, estimator3)\n",
    "print(best_params3)"
   ]
  },
  {
   "cell_type": "code",
   "execution_count": 78,
   "metadata": {},
   "outputs": [
    {
     "name": "stderr",
     "output_type": "stream",
     "text": [
      "c:\\Users\\Kirill\\AppData\\Local\\Programs\\Python\\Python310\\lib\\site-packages\\sklearn\\utils\\deprecation.py:87: FutureWarning: Function get_feature_names is deprecated; get_feature_names is deprecated in 1.0 and will be removed in 1.2. Please use get_feature_names_out instead.\n",
      "  warnings.warn(msg, category=FutureWarning)\n"
     ]
    },
    {
     "data": {
      "text/html": [
       "<div>\n",
       "<style scoped>\n",
       "    .dataframe tbody tr th:only-of-type {\n",
       "        vertical-align: middle;\n",
       "    }\n",
       "\n",
       "    .dataframe tbody tr th {\n",
       "        vertical-align: top;\n",
       "    }\n",
       "\n",
       "    .dataframe thead th {\n",
       "        text-align: right;\n",
       "    }\n",
       "</style>\n",
       "<table border=\"1\" class=\"dataframe\">\n",
       "  <thead>\n",
       "    <tr style=\"text-align: right;\">\n",
       "      <th></th>\n",
       "      <th>importances</th>\n",
       "    </tr>\n",
       "  </thead>\n",
       "  <tbody>\n",
       "    <tr>\n",
       "      <th>reach</th>\n",
       "      <td>0.021263</td>\n",
       "    </tr>\n",
       "    <tr>\n",
       "      <th>some</th>\n",
       "      <td>0.019401</td>\n",
       "    </tr>\n",
       "    <tr>\n",
       "      <th>need</th>\n",
       "      <td>0.015715</td>\n",
       "    </tr>\n",
       "    <tr>\n",
       "      <th>been</th>\n",
       "      <td>0.014601</td>\n",
       "    </tr>\n",
       "    <tr>\n",
       "      <th>write</th>\n",
       "      <td>0.012367</td>\n",
       "    </tr>\n",
       "    <tr>\n",
       "      <th>...</th>\n",
       "      <td>...</td>\n",
       "    </tr>\n",
       "    <tr>\n",
       "      <th>honor</th>\n",
       "      <td>0.000000</td>\n",
       "    </tr>\n",
       "    <tr>\n",
       "      <th>honey</th>\n",
       "      <td>0.000000</td>\n",
       "    </tr>\n",
       "    <tr>\n",
       "      <th>home</th>\n",
       "      <td>0.000000</td>\n",
       "    </tr>\n",
       "    <tr>\n",
       "      <th>holy</th>\n",
       "      <td>0.000000</td>\n",
       "    </tr>\n",
       "    <tr>\n",
       "      <th>median</th>\n",
       "      <td>0.000000</td>\n",
       "    </tr>\n",
       "  </tbody>\n",
       "</table>\n",
       "<p>716 rows × 1 columns</p>\n",
       "</div>"
      ],
      "text/plain": [
       "        importances\n",
       "reach      0.021263\n",
       "some       0.019401\n",
       "need       0.015715\n",
       "been       0.014601\n",
       "write      0.012367\n",
       "...             ...\n",
       "honor      0.000000\n",
       "honey      0.000000\n",
       "home       0.000000\n",
       "holy       0.000000\n",
       "median     0.000000\n",
       "\n",
       "[716 rows x 1 columns]"
      ]
     },
     "metadata": {},
     "output_type": "display_data"
    }
   ],
   "source": [
    "feature_importances = pd.DataFrame(estimator3[0].feature_importances_, index=vectorizer.get_feature_names() + ['mean','median'], columns=['importances']).sort_values(by='importances', ascending=False)\n",
    "display(feature_importances)"
   ]
  },
  {
   "cell_type": "code",
   "execution_count": 79,
   "metadata": {},
   "outputs": [
    {
     "name": "stdout",
     "output_type": "stream",
     "text": [
      " Model F1-score: 0.7070357554786622\n"
     ]
    }
   ],
   "source": [
    "print( f' Model F1-score: {f1_score(y_test, y_preds3, average=\"weighted\")}' )"
   ]
  },
  {
   "cell_type": "code",
   "execution_count": 80,
   "metadata": {},
   "outputs": [
    {
     "name": "stdout",
     "output_type": "stream",
     "text": [
      "Fitting 3 folds for each of 1 candidates, totalling 3 fits\n",
      "0:\tlearn: 1.3822095\ttotal: 12.1ms\tremaining: 1.2s\n",
      "99:\tlearn: 1.0184529\ttotal: 949ms\tremaining: 0us\n",
      "0:\tlearn: 1.3822095\ttotal: 11.4ms\tremaining: 1.12s\n",
      "99:\tlearn: 1.0184529\ttotal: 948ms\tremaining: 0us\n"
     ]
    },
    {
     "data": {
      "image/png": "[encoded data removed]",
      "text/plain": [
       "<Figure size 800x500 with 2 Axes>"
      ]
     },
     "metadata": {},
     "output_type": "display_data"
    },
    {
     "name": "stdout",
     "output_type": "stream",
     "text": [
      "{'base__learning_rate': 0.01}\n"
     ]
    }
   ],
   "source": [
    "vect_x = vectorizer.transform(x)\n",
    "vect_x = sparse.hstack((sparse.csr_matrix(df_films_splitted[['mean','median']].values), vect_x))\n",
    "\n",
    "nm = NearMiss()\n",
    "X_res, Y_res = nm.fit_resample(vect_x, y)\n",
    "pipeline4 = Pipeline( steps = [(\"base\", CatBoostClassifier(iterations=100, verbose=100, task_type='GPU') )]  )\n",
    "# CatBoostClassifier(task_type='GPU')\n",
    "param_grid4 = {\n",
    "    # \"base__n_estimators\": [i for i in range(200,300,50)],\n",
    "    # \"base__max_depth\": [i for i in range(25,35,5)],\n",
    "    # \"base__min_samples_split\": [i for i in range(8,12,2)],\n",
    "    'base__learning_rate': [0.01],\n",
    "}\n",
    "estimator4, best_params4 = search_best_estimator(pipeline4, param_grid4, X_res, Y_res)\n",
    "X_train, X_test, y_train, y_test = train_test_split(\n",
    "    vect_x, y, random_state=42, test_size=0.3, stratify=y\n",
    ")\n",
    "estimator4.fit(X_res, Y_res)\n",
    "y_preds4 = estimator3.predict(X_test)\n",
    "plot_confusion_matrix(y_test, y_preds4, estimator4)\n",
    "print(best_params4)"
   ]
  },
  {
   "cell_type": "code",
   "execution_count": 81,
   "metadata": {},
   "outputs": [
    {
     "name": "stdout",
     "output_type": "stream",
     "text": [
      " Model F1-score: 0.7070357554786622\n"
     ]
    }
   ],
   "source": [
    "print( f' Model F1-score: {f1_score(y_test, y_preds4, average=\"weighted\")}' )"
   ]
  },
  {
   "cell_type": "code",
   "execution_count": 61,
   "metadata": {},
   "outputs": [],
   "source": [
    "# https://stackoverflow.com/a/69678207\n",
    "# https://habr.com/ru/post/702626/"
   ]
  }
 ],
 "metadata": {
  "kernelspec": {
   "display_name": "Python 3",
   "language": "python",
   "name": "python3"
  },
  "language_info": {
   "codemirror_mode": {
    "name": "ipython",
    "version": 3
   },
   "file_extension": ".py",
   "mimetype": "text/x-python",
   "name": "python",
   "nbconvert_exporter": "python",
   "pygments_lexer": "ipython3",
   "version": "3.10.6"
  },
  "orig_nbformat": 4,
  "vscode": {
   "interpreter": {
    "hash": "4ae014aa0c140bf18c89a580af6667d9b98d6bbe24021bb45f64159ca85cd197"
   }
  }
 },
 "nbformat": 4,
 "nbformat_minor": 2
}
