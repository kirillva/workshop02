{
 "cells": [
  {
   "cell_type": "code",
   "execution_count": 34,
   "metadata": {},
   "outputs": [],
   "source": [
    "import re\n",
    "import srt \n",
    "import glob\n",
    "import pandas as pd\n",
    "import os\n",
    "import numpy as np\n",
    "from fuzzywuzzy import fuzz\n",
    "from fuzzywuzzy import process\n",
    "\n",
    "import spacy\n",
    "\n",
    "from sklearn.experimental import enable_halving_search_cv\n",
    "from sklearn.model_selection import (\n",
    "    train_test_split,\n",
    "    HalvingRandomSearchCV,\n",
    "    GridSearchCV\n",
    ")\n",
    "from sklearn.metrics import (\n",
    "    ConfusionMatrixDisplay, confusion_matrix,\n",
    "    f1_score, roc_auc_score,\n",
    "    classification_report, make_scorer\n",
    ")\n",
    "\n",
    "import matplotlib.pyplot as plt\n",
    "\n",
    "from sklearn.feature_extraction.text import TfidfVectorizer\n",
    "from sklearn.pipeline import Pipeline, make_pipeline\n",
    "\n",
    "from sklearn.ensemble import RandomForestClassifier\n",
    "\n",
    "from imblearn.under_sampling import NearMiss \n",
    "\n",
    "from catboost import CatBoostClassifier, CatBoostRegressor, Pool\n",
    "\n",
    "from sklearn.feature_extraction.text import CountVectorizer\n",
    "from scipy import sparse"
   ]
  },
  {
   "attachments": {},
   "cell_type": "markdown",
   "metadata": {},
   "source": []
  },
  {
   "cell_type": "code",
   "execution_count": 35,
   "metadata": {},
   "outputs": [],
   "source": [
    "DATA_PATH = 'English_level/data_all'\n",
    "\n",
    "HTML = r'<.*?>'\n",
    "TAG = r'{.*?}'\n",
    "COMMENTS = r'[\\(\\[][A-Z ]+[\\)\\]]'\n",
    "LETTERS = r'[^a-zA-Z\\'.,!? ]'\n",
    "SPACES = r'([ ])\\1+'\n",
    "DOTS = r'[\\.]+'\n",
    "\n",
    "YEAR_SRT = r'(\\(\\d{4}\\))'\n",
    "CLEAN_TEXT = r'[^a-z\\s\\|]'\n",
    "\n",
    "def clean_subs(subs):\n",
    "    txt = re.sub(HTML, ' ', subs) #html тэги меняем на пробел\n",
    "    txt = re.sub(TAG, ' ', txt) #тэги меняем на пробел\n",
    "    txt = re.sub(COMMENTS, ' ', txt) #комменты меняем на пробел\n",
    "    txt = re.sub(LETTERS, ' ', txt) #все что не буквы меняем на пробел\n",
    "    txt = re.sub(SPACES, r'\\1', txt) #повторяющиеся пробелы меняем на один пробел\n",
    "    txt = re.sub(DOTS, r'.', txt)  #многоточие меняем на точку\n",
    "    return txt"
   ]
  },
  {
   "attachments": {},
   "cell_type": "markdown",
   "metadata": {},
   "source": [
    "### Предобработка данных\n",
    "\n",
    "Читаем файлы, создаем переменные:\n",
    "dframes - обьект, связывающий имена файлов с датафреймами субтитров.\n",
    "films - датафрейм с именами фильмов и классификацией"
   ]
  },
  {
   "cell_type": "code",
   "execution_count": 36,
   "metadata": {},
   "outputs": [],
   "source": [
    "dframes = {}\n",
    "files = glob.glob(f'{DATA_PATH}/Subtitles_all/*.srt')\n",
    "\n",
    "for filename in files:\n",
    "    try:\n",
    "        with open(filename) as f:\n",
    "            #удаляем все что не ascii символы   \n",
    "            subtitle_generator = srt.parse(f.read().encode('ascii', 'ignore').decode())\n",
    "            #удаляем первый и последний субтитр (обычно это реклама)\n",
    "            df = pd.DataFrame(list([[item.start, item.end, item.content] for item in subtitle_generator][1:-1]), columns=['start','end','content'])\n",
    "            df['content'] = df['content'].apply(clean_subs)\n",
    "            df['content'] = df['content'].str.strip().replace('', np.nan).str.lower()\n",
    "            df.dropna(subset=['content'], inplace=True)\n",
    "            df.reset_index(drop=True, inplace=True)\n",
    "\n",
    "            dframes[os.path.basename(f.name)] = df\n",
    "\n",
    "    except srt.SRTParseError as e:\n",
    "        print(filename, e)\n",
    "        \n",
    "films = pd.DataFrame([n for n in dframes], columns=['name'])\n",
    "films['year'] = films['name'].str.extract(YEAR_SRT, flags=0)\n",
    "films['parsed_name'] = films.apply(lambda x: x['name'].replace(str(x['year']), '').replace('_', ' ').replace('.srt', ''), axis=1)\n",
    "\n",
    "labels = pd.read_csv(f'{DATA_PATH}/labels_all.csv')"
   ]
  },
  {
   "cell_type": "code",
   "execution_count": 37,
   "metadata": {},
   "outputs": [
    {
     "data": {
      "text/html": [
       "<div>\n",
       "<style scoped>\n",
       "    .dataframe tbody tr th:only-of-type {\n",
       "        vertical-align: middle;\n",
       "    }\n",
       "\n",
       "    .dataframe tbody tr th {\n",
       "        vertical-align: top;\n",
       "    }\n",
       "\n",
       "    .dataframe thead th {\n",
       "        text-align: right;\n",
       "    }\n",
       "</style>\n",
       "<table border=\"1\" class=\"dataframe\">\n",
       "  <thead>\n",
       "    <tr style=\"text-align: right;\">\n",
       "      <th></th>\n",
       "      <th>name</th>\n",
       "      <th>year</th>\n",
       "      <th>parsed_name</th>\n",
       "    </tr>\n",
       "  </thead>\n",
       "  <tbody>\n",
       "    <tr>\n",
       "      <th>0</th>\n",
       "      <td>10_Cloverfield_lane(2016).srt</td>\n",
       "      <td>(2016)</td>\n",
       "      <td>10 Cloverfield lane</td>\n",
       "    </tr>\n",
       "    <tr>\n",
       "      <th>1</th>\n",
       "      <td>10_things_I_hate_about_you(1999).srt</td>\n",
       "      <td>(1999)</td>\n",
       "      <td>10 things I hate about you</td>\n",
       "    </tr>\n",
       "    <tr>\n",
       "      <th>2</th>\n",
       "      <td>Aladdin(1992).srt</td>\n",
       "      <td>(1992)</td>\n",
       "      <td>Aladdin</td>\n",
       "    </tr>\n",
       "    <tr>\n",
       "      <th>3</th>\n",
       "      <td>All_dogs_go_to_heaven(1989).srt</td>\n",
       "      <td>(1989)</td>\n",
       "      <td>All dogs go to heaven</td>\n",
       "    </tr>\n",
       "    <tr>\n",
       "      <th>4</th>\n",
       "      <td>An_American_tail(1986).srt</td>\n",
       "      <td>(1986)</td>\n",
       "      <td>An American tail</td>\n",
       "    </tr>\n",
       "    <tr>\n",
       "      <th>...</th>\n",
       "      <td>...</td>\n",
       "      <td>...</td>\n",
       "      <td>...</td>\n",
       "    </tr>\n",
       "    <tr>\n",
       "      <th>112</th>\n",
       "      <td>Warm_bodies(2013).srt</td>\n",
       "      <td>(2013)</td>\n",
       "      <td>Warm bodies</td>\n",
       "    </tr>\n",
       "    <tr>\n",
       "      <th>113</th>\n",
       "      <td>Westworld_scenes_of_Dr_Robert_Ford.srt</td>\n",
       "      <td>NaN</td>\n",
       "      <td>Westworld scenes of Dr Robert Ford</td>\n",
       "    </tr>\n",
       "    <tr>\n",
       "      <th>114</th>\n",
       "      <td>We_are_the_Millers(2013).srt</td>\n",
       "      <td>(2013)</td>\n",
       "      <td>We are the Millers</td>\n",
       "    </tr>\n",
       "    <tr>\n",
       "      <th>115</th>\n",
       "      <td>While_You_Were_Sleeping(1995).srt</td>\n",
       "      <td>(1995)</td>\n",
       "      <td>While You Were Sleeping</td>\n",
       "    </tr>\n",
       "    <tr>\n",
       "      <th>116</th>\n",
       "      <td>Zootopia(2016).srt</td>\n",
       "      <td>(2016)</td>\n",
       "      <td>Zootopia</td>\n",
       "    </tr>\n",
       "  </tbody>\n",
       "</table>\n",
       "<p>117 rows × 3 columns</p>\n",
       "</div>"
      ],
      "text/plain": [
       "                                       name    year  \\\n",
       "0             10_Cloverfield_lane(2016).srt  (2016)   \n",
       "1      10_things_I_hate_about_you(1999).srt  (1999)   \n",
       "2                         Aladdin(1992).srt  (1992)   \n",
       "3           All_dogs_go_to_heaven(1989).srt  (1989)   \n",
       "4                An_American_tail(1986).srt  (1986)   \n",
       "..                                      ...     ...   \n",
       "112                   Warm_bodies(2013).srt  (2013)   \n",
       "113  Westworld_scenes_of_Dr_Robert_Ford.srt     NaN   \n",
       "114            We_are_the_Millers(2013).srt  (2013)   \n",
       "115       While_You_Were_Sleeping(1995).srt  (1995)   \n",
       "116                      Zootopia(2016).srt  (2016)   \n",
       "\n",
       "                            parsed_name  \n",
       "0                   10 Cloverfield lane  \n",
       "1            10 things I hate about you  \n",
       "2                               Aladdin  \n",
       "3                 All dogs go to heaven  \n",
       "4                      An American tail  \n",
       "..                                  ...  \n",
       "112                         Warm bodies  \n",
       "113  Westworld scenes of Dr Robert Ford  \n",
       "114                  We are the Millers  \n",
       "115             While You Were Sleeping  \n",
       "116                            Zootopia  \n",
       "\n",
       "[117 rows x 3 columns]"
      ]
     },
     "execution_count": 37,
     "metadata": {},
     "output_type": "execute_result"
    }
   ],
   "source": [
    "films"
   ]
  },
  {
   "cell_type": "code",
   "execution_count": 38,
   "metadata": {},
   "outputs": [
    {
     "data": {
      "text/html": [
       "<div>\n",
       "<style scoped>\n",
       "    .dataframe tbody tr th:only-of-type {\n",
       "        vertical-align: middle;\n",
       "    }\n",
       "\n",
       "    .dataframe tbody tr th {\n",
       "        vertical-align: top;\n",
       "    }\n",
       "\n",
       "    .dataframe thead th {\n",
       "        text-align: right;\n",
       "    }\n",
       "</style>\n",
       "<table border=\"1\" class=\"dataframe\">\n",
       "  <thead>\n",
       "    <tr style=\"text-align: right;\">\n",
       "      <th></th>\n",
       "      <th>movie</th>\n",
       "      <th>level</th>\n",
       "      <th>name</th>\n",
       "    </tr>\n",
       "    <tr>\n",
       "      <th>index</th>\n",
       "      <th></th>\n",
       "      <th></th>\n",
       "      <th></th>\n",
       "    </tr>\n",
       "  </thead>\n",
       "  <tbody>\n",
       "    <tr>\n",
       "      <th>37</th>\n",
       "      <td>Forrest Gump</td>\n",
       "      <td>B1</td>\n",
       "      <td>Forrest_Gump(1994).srt</td>\n",
       "    </tr>\n",
       "    <tr>\n",
       "      <th>36</th>\n",
       "      <td>Finding Nemo\\n</td>\n",
       "      <td>A2/A2+</td>\n",
       "      <td>Finding_Nemo(2003).srt</td>\n",
       "    </tr>\n",
       "    <tr>\n",
       "      <th>21</th>\n",
       "      <td>Cast away\\n</td>\n",
       "      <td>A2/A2+</td>\n",
       "      <td>Cast_away(2000).srt</td>\n",
       "    </tr>\n",
       "    <tr>\n",
       "      <th>91</th>\n",
       "      <td>The invisible man (2020)\\n</td>\n",
       "      <td>A2/A2+</td>\n",
       "      <td>The_invisible_man(2020).srt</td>\n",
       "    </tr>\n",
       "    <tr>\n",
       "      <th>8</th>\n",
       "      <td>Back to the future\\n</td>\n",
       "      <td>A2/A2+</td>\n",
       "      <td>Back_to_the_future(1985).srt</td>\n",
       "    </tr>\n",
       "    <tr>\n",
       "      <th>...</th>\n",
       "      <td>...</td>\n",
       "      <td>...</td>\n",
       "      <td>...</td>\n",
       "    </tr>\n",
       "    <tr>\n",
       "      <th>48</th>\n",
       "      <td>Klaus</td>\n",
       "      <td>C1</td>\n",
       "      <td>Klaus(2019).srt</td>\n",
       "    </tr>\n",
       "    <tr>\n",
       "      <th>67</th>\n",
       "      <td>Ocean’s Eleven</td>\n",
       "      <td>C1</td>\n",
       "      <td>Oceans_Eleven(2001).srt</td>\n",
       "    </tr>\n",
       "    <tr>\n",
       "      <th>68</th>\n",
       "      <td>Ocean’s Twelve</td>\n",
       "      <td>C1</td>\n",
       "      <td>Oceans_Twelve(2004).srt</td>\n",
       "    </tr>\n",
       "    <tr>\n",
       "      <th>17</th>\n",
       "      <td>Bridget Jones’s Baby</td>\n",
       "      <td>C1</td>\n",
       "      <td>Bridget_Joness_Baby.srt</td>\n",
       "    </tr>\n",
       "    <tr>\n",
       "      <th>62</th>\n",
       "      <td>Mona Lisa Smile</td>\n",
       "      <td>C1</td>\n",
       "      <td>Mona_Lisa_Smile(2003).srt</td>\n",
       "    </tr>\n",
       "  </tbody>\n",
       "</table>\n",
       "<p>111 rows × 3 columns</p>\n",
       "</div>"
      ],
      "text/plain": [
       "                            movie   level                          name\n",
       "index                                                                  \n",
       "37                   Forrest Gump      B1        Forrest_Gump(1994).srt\n",
       "36                 Finding Nemo\\n  A2/A2+        Finding_Nemo(2003).srt\n",
       "21                    Cast away\\n  A2/A2+           Cast_away(2000).srt\n",
       "91     The invisible man (2020)\\n  A2/A2+   The_invisible_man(2020).srt\n",
       "8            Back to the future\\n  A2/A2+  Back_to_the_future(1985).srt\n",
       "...                           ...     ...                           ...\n",
       "48                          Klaus      C1               Klaus(2019).srt\n",
       "67                 Ocean’s Eleven      C1       Oceans_Eleven(2001).srt\n",
       "68                 Ocean’s Twelve      C1       Oceans_Twelve(2004).srt\n",
       "17           Bridget Jones’s Baby      C1       Bridget_Joness_Baby.srt\n",
       "62                Mona Lisa Smile      C1     Mona_Lisa_Smile(2003).srt\n",
       "\n",
       "[111 rows x 3 columns]"
      ]
     },
     "metadata": {},
     "output_type": "display_data"
    }
   ],
   "source": [
    "for index in labels.index:\n",
    "    item = labels.loc[index, 'Movie']\n",
    "    found = process.extractOne(item, films['parsed_name'])\n",
    "    labels.loc[index, ['found', 'probability', 'index']] = found\n",
    "\n",
    "labels['index'] = labels['index'].astype(int)\n",
    "films = labels.set_index('index').join(films)\n",
    "\n",
    "def getClass(title):\n",
    "    if title.find('C1') >= 0:\n",
    "        return 'C1'\n",
    "    if title.find('B2') >= 0:\n",
    "        return 'B2'\n",
    "    if title.find('B1') >= 0:\n",
    "        return 'B1'\n",
    "    if title.find('A2+') >= 0:\n",
    "        return 'A2/A2+'\n",
    "    \n",
    "films['Level'] = films['Level'].apply(getClass)\n",
    "films = films[['Movie', 'Level', 'name']]\n",
    "films.columns = ['movie', 'level', 'name']\n",
    "display(films)"
   ]
  },
  {
   "attachments": {},
   "cell_type": "markdown",
   "metadata": {},
   "source": [
    "Создаем вспомогательные функции для лемматизации, обучения модели и построения матрицы."
   ]
  },
  {
   "cell_type": "code",
   "execution_count": 39,
   "metadata": {},
   "outputs": [],
   "source": [
    "nlp = spacy.load('en_core_web_sm', disable=['parser', 'ner'])\n",
    "def lemmatize(text):    \n",
    "    doc = nlp(text)\n",
    "    \n",
    "    lemmatized_text = ' '.join(['' if token.is_stop else token.lemma_ for token in doc])\n",
    "    lemmatized_text = re.sub(CLEAN_TEXT, ' ', lemmatized_text)\n",
    "    lemmatized_text = re.sub(SPACES, r'\\1', lemmatized_text)\n",
    "\n",
    "    return lemmatized_text.split('|')"
   ]
  },
  {
   "cell_type": "code",
   "execution_count": 40,
   "metadata": {},
   "outputs": [],
   "source": [
    "def search_best_estimator(pipeline, param_grid, x, y):\n",
    "    hrs = GridSearchCV(\n",
    "        estimator=pipeline,\n",
    "        param_grid=param_grid,\n",
    "        scoring='f1_weighted',\n",
    "        cv=3,\n",
    "        # n_candidates=\"exhaust\",\n",
    "        # factor=5,\n",
    "        n_jobs=-1,\n",
    "        verbose=2\n",
    "    )\n",
    "    _ = hrs.fit(x, y)\n",
    "    return hrs.best_estimator_"
   ]
  },
  {
   "cell_type": "code",
   "execution_count": 41,
   "metadata": {},
   "outputs": [],
   "source": [
    "def plot_confusion_matrix(y_test, y_preds, model):\n",
    "    fig, ax = plt.subplots(figsize=(8,5))\n",
    "    cm = confusion_matrix(y_test, y_preds)\n",
    "    cmp = ConfusionMatrixDisplay(cm, display_labels = model.classes_ )\n",
    "    cmp.plot(ax=ax)\n",
    "    plt.show()"
   ]
  },
  {
   "cell_type": "code",
   "execution_count": 42,
   "metadata": {},
   "outputs": [
    {
     "ename": "KeyboardInterrupt",
     "evalue": "",
     "output_type": "error",
     "traceback": [
      "\u001b[1;31m---------------------------------------------------------------------------\u001b[0m",
      "\u001b[1;31mKeyboardInterrupt\u001b[0m                         Traceback (most recent call last)",
      "\u001b[1;32mc:\\git\\workshop02\\subtitles.ipynb Cell 12\u001b[0m in \u001b[0;36m<cell line: 1>\u001b[1;34m()\u001b[0m\n\u001b[0;32m      <a href='vscode-notebook-cell:/c%3A/git/workshop02/subtitles.ipynb#X14sZmlsZQ%3D%3D?line=1'>2</a>\u001b[0m name \u001b[39m=\u001b[39m films\u001b[39m.\u001b[39mloc[index, \u001b[39m'\u001b[39m\u001b[39mname\u001b[39m\u001b[39m'\u001b[39m]\n\u001b[0;32m      <a href='vscode-notebook-cell:/c%3A/git/workshop02/subtitles.ipynb#X14sZmlsZQ%3D%3D?line=2'>3</a>\u001b[0m text \u001b[39m=\u001b[39m \u001b[39m'\u001b[39m\u001b[39m|\u001b[39m\u001b[39m'\u001b[39m\u001b[39m.\u001b[39mjoin(dframes[name][\u001b[39m'\u001b[39m\u001b[39mcontent\u001b[39m\u001b[39m'\u001b[39m])\n\u001b[1;32m----> <a href='vscode-notebook-cell:/c%3A/git/workshop02/subtitles.ipynb#X14sZmlsZQ%3D%3D?line=3'>4</a>\u001b[0m result \u001b[39m=\u001b[39m lemmatize(text)\n\u001b[0;32m      <a href='vscode-notebook-cell:/c%3A/git/workshop02/subtitles.ipynb#X14sZmlsZQ%3D%3D?line=4'>5</a>\u001b[0m dframes[name][\u001b[39m'\u001b[39m\u001b[39mcontent\u001b[39m\u001b[39m'\u001b[39m] \u001b[39m=\u001b[39m pd\u001b[39m.\u001b[39mSeries(result)\n",
      "\u001b[1;32mc:\\git\\workshop02\\subtitles.ipynb Cell 12\u001b[0m in \u001b[0;36mlemmatize\u001b[1;34m(text)\u001b[0m\n\u001b[0;32m      <a href='vscode-notebook-cell:/c%3A/git/workshop02/subtitles.ipynb#X14sZmlsZQ%3D%3D?line=1'>2</a>\u001b[0m \u001b[39mdef\u001b[39;00m \u001b[39mlemmatize\u001b[39m(text):    \n\u001b[1;32m----> <a href='vscode-notebook-cell:/c%3A/git/workshop02/subtitles.ipynb#X14sZmlsZQ%3D%3D?line=2'>3</a>\u001b[0m     doc \u001b[39m=\u001b[39m nlp(text)\n\u001b[0;32m      <a href='vscode-notebook-cell:/c%3A/git/workshop02/subtitles.ipynb#X14sZmlsZQ%3D%3D?line=4'>5</a>\u001b[0m     lemmatized_text \u001b[39m=\u001b[39m \u001b[39m'\u001b[39m\u001b[39m \u001b[39m\u001b[39m'\u001b[39m\u001b[39m.\u001b[39mjoin([\u001b[39m'\u001b[39m\u001b[39m'\u001b[39m \u001b[39mif\u001b[39;00m token\u001b[39m.\u001b[39mis_stop \u001b[39melse\u001b[39;00m token\u001b[39m.\u001b[39mlemma_ \u001b[39mfor\u001b[39;00m token \u001b[39min\u001b[39;00m doc])\n\u001b[0;32m      <a href='vscode-notebook-cell:/c%3A/git/workshop02/subtitles.ipynb#X14sZmlsZQ%3D%3D?line=5'>6</a>\u001b[0m     lemmatized_text \u001b[39m=\u001b[39m re\u001b[39m.\u001b[39msub(CLEAN_TEXT, \u001b[39m'\u001b[39m\u001b[39m \u001b[39m\u001b[39m'\u001b[39m, lemmatized_text)\n",
      "File \u001b[1;32mc:\\Users\\Kirill\\AppData\\Local\\Programs\\Python\\Python310\\lib\\site-packages\\spacy\\language.py:1011\u001b[0m, in \u001b[0;36mLanguage.__call__\u001b[1;34m(self, text, disable, component_cfg)\u001b[0m\n\u001b[0;32m   1009\u001b[0m     error_handler \u001b[39m=\u001b[39m proc\u001b[39m.\u001b[39mget_error_handler()\n\u001b[0;32m   1010\u001b[0m \u001b[39mtry\u001b[39;00m:\n\u001b[1;32m-> 1011\u001b[0m     doc \u001b[39m=\u001b[39m proc(doc, \u001b[39m*\u001b[39m\u001b[39m*\u001b[39mcomponent_cfg\u001b[39m.\u001b[39mget(name, {}))  \u001b[39m# type: ignore[call-arg]\u001b[39;00m\n\u001b[0;32m   1012\u001b[0m \u001b[39mexcept\u001b[39;00m \u001b[39mKeyError\u001b[39;00m \u001b[39mas\u001b[39;00m e:\n\u001b[0;32m   1013\u001b[0m     \u001b[39m# This typically happens if a component is not initialized\u001b[39;00m\n\u001b[0;32m   1014\u001b[0m     \u001b[39mraise\u001b[39;00m \u001b[39mValueError\u001b[39;00m(Errors\u001b[39m.\u001b[39mE109\u001b[39m.\u001b[39mformat(name\u001b[39m=\u001b[39mname)) \u001b[39mfrom\u001b[39;00m \u001b[39me\u001b[39;00m\n",
      "File \u001b[1;32mc:\\Users\\Kirill\\AppData\\Local\\Programs\\Python\\Python310\\lib\\site-packages\\spacy\\pipeline\\attributeruler.py:144\u001b[0m, in \u001b[0;36mAttributeRuler.__call__\u001b[1;34m(self, doc)\u001b[0m\n\u001b[0;32m    142\u001b[0m \u001b[39mtry\u001b[39;00m:\n\u001b[0;32m    143\u001b[0m     matches \u001b[39m=\u001b[39m \u001b[39mself\u001b[39m\u001b[39m.\u001b[39mmatch(doc)\n\u001b[1;32m--> 144\u001b[0m     \u001b[39mself\u001b[39;49m\u001b[39m.\u001b[39;49mset_annotations(doc, matches)\n\u001b[0;32m    145\u001b[0m     \u001b[39mreturn\u001b[39;00m doc\n\u001b[0;32m    146\u001b[0m \u001b[39mexcept\u001b[39;00m \u001b[39mException\u001b[39;00m \u001b[39mas\u001b[39;00m e:\n",
      "File \u001b[1;32mc:\\Users\\Kirill\\AppData\\Local\\Programs\\Python\\Python310\\lib\\site-packages\\spacy\\pipeline\\attributeruler.py:178\u001b[0m, in \u001b[0;36mAttributeRuler.set_annotations\u001b[1;34m(self, doc, matches)\u001b[0m\n\u001b[0;32m    168\u001b[0m \u001b[39mexcept\u001b[39;00m \u001b[39mIndexError\u001b[39;00m:\n\u001b[0;32m    169\u001b[0m     \u001b[39m# The original exception is just our conditional logic, so we\u001b[39;00m\n\u001b[0;32m    170\u001b[0m     \u001b[39m# raise from.\u001b[39;00m\n\u001b[0;32m    171\u001b[0m     \u001b[39mraise\u001b[39;00m \u001b[39mValueError\u001b[39;00m(\n\u001b[0;32m    172\u001b[0m         Errors\u001b[39m.\u001b[39mE1001\u001b[39m.\u001b[39mformat(\n\u001b[0;32m    173\u001b[0m             patterns\u001b[39m=\u001b[39m\u001b[39mself\u001b[39m\u001b[39m.\u001b[39mmatcher\u001b[39m.\u001b[39mget(span\u001b[39m.\u001b[39mlabel),\n\u001b[1;32m   (...)\u001b[0m\n\u001b[0;32m    176\u001b[0m         )\n\u001b[0;32m    177\u001b[0m     ) \u001b[39mfrom\u001b[39;00m \u001b[39mNone\u001b[39m\n\u001b[1;32m--> 178\u001b[0m set_token_attrs(span[index], attrs)\n",
      "\u001b[1;31mKeyboardInterrupt\u001b[0m: "
     ]
    }
   ],
   "source": [
    "for index in films.index:\n",
    "    name = films.loc[index, 'name']\n",
    "    text = '|'.join(dframes[name]['content'])\n",
    "    result = lemmatize(text)\n",
    "    dframes[name]['content'] = pd.Series(result)"
   ]
  },
  {
   "cell_type": "code",
   "execution_count": null,
   "metadata": {},
   "outputs": [],
   "source": [
    "content = []\n",
    "titles = []\n",
    "mean = []\n",
    "median = []\n",
    "split_factors = 1\n",
    "\n",
    "for name in dframes:\n",
    "    df_content = dframes[name]['content']\n",
    "    size = df_content.size // split_factors\n",
    "    for i in range(split_factors):\n",
    "        titles.append(name)\n",
    "        dframes[name]['content'].str.split(' ').apply(lambda x: len(x)) / (dframes[name].end - dframes[name].start).dt.total_seconds()\n",
    "        df_part = dframes[name][i * size : (i+1) * size]\n",
    "        df_div = df_part['content'].str.split(' ').apply(lambda x: len(x)) / (df_part['end'] - df_part['start']).dt.total_seconds()\n",
    "        mean.append(df_div[(df_div > 0.1) & (df_div < 5)].mean())\n",
    "        median.append(df_div[(df_div > 0.1) & (df_div < 5)].median())\n",
    "        content.append(''.join(df_content[i * size : (i+1) * size]))"
   ]
  },
  {
   "cell_type": "code",
   "execution_count": null,
   "metadata": {},
   "outputs": [],
   "source": [
    "df_films_splitted = films.merge(pd.DataFrame(data={'name':titles, 'content':content, 'mean': mean, 'median': median}), on='name')\n",
    "df_films_splitted = df_films_splitted[['name', 'level', 'content', 'mean', 'median']].reset_index(drop=True)"
   ]
  },
  {
   "cell_type": "code",
   "execution_count": null,
   "metadata": {},
   "outputs": [
    {
     "data": {
      "text/plain": [
       "B1        640\n",
       "B2        608\n",
       "A2/A2+    400\n",
       "C1        128\n",
       "Name: level, dtype: int64"
      ]
     },
     "execution_count": 12,
     "metadata": {},
     "output_type": "execute_result"
    }
   ],
   "source": [
    "df_films_splitted['level'].value_counts()"
   ]
  },
  {
   "cell_type": "code",
   "execution_count": null,
   "metadata": {},
   "outputs": [],
   "source": [
    "words = pd.read_csv(f'Parsed/words.csv', index_col=[0])"
   ]
  },
  {
   "cell_type": "code",
   "execution_count": null,
   "metadata": {},
   "outputs": [
    {
     "name": "stdout",
     "output_type": "stream",
     "text": [
      "Fitting 3 folds for each of 20 candidates, totalling 60 fits\n"
     ]
    }
   ],
   "source": [
    "x, y = df_films_splitted['content'].tolist(), df_films_splitted['level'].tolist()\n",
    "\n",
    "# vocabulary=words['name'].str.strip().str.lower().unique()\n",
    "pipeline = Pipeline(\n",
    "    steps = [(\"tfidf\", TfidfVectorizer(vocabulary=words['name'].str.strip().str.lower().unique()) ),(\"base\", RandomForestClassifier() )]\n",
    ")\n",
    "\n",
    "param_grid = {\n",
    "    \"tfidf__min_df\": [i for i in range(30,50,5)],\n",
    "    \"tfidf__max_df\": [i for i in range(50,100,10)],\n",
    "    # \"base__n_estimators\": [i for i in range(150,250,50)],\n",
    "    # \"base__max_depth\": [i for i in range(25,35,5)],\n",
    "    # \"base__min_samples_split\":[i for i in range(6,10,2)],\n",
    "    \"base__min_samples_leaf\": [2],\n",
    "}\n",
    "\n",
    "estimator = search_best_estimator(pipeline, param_grid, x, y)\n",
    "\n",
    "_x, _y = films['name'].tolist(), films['level'].tolist()\n",
    "\n",
    "X_train_labels, X_test_labels, _, _ = train_test_split(\n",
    "    _x, _y, random_state=42, test_size=0.3, stratify=_y\n",
    ")\n",
    "\n",
    "X_train = df_films_splitted[df_films_splitted['name'].isin(X_train_labels)]['content'].tolist()\n",
    "X_test = df_films_splitted[df_films_splitted['name'].isin(X_test_labels)]['content'].tolist()\n",
    "\n",
    "y_train = df_films_splitted[df_films_splitted['name'].isin(X_train_labels)]['level'].tolist()\n",
    "y_test = df_films_splitted[df_films_splitted['name'].isin(X_test_labels)]['level'].tolist()\n",
    "\n",
    "estimator.fit(X_train, y_train)\n",
    "y_preds = estimator.predict(X_test)\n",
    "plot_confusion_matrix(y_test, y_preds, estimator)"
   ]
  },
  {
   "cell_type": "code",
   "execution_count": null,
   "metadata": {},
   "outputs": [
    {
     "name": "stdout",
     "output_type": "stream",
     "text": [
      "              precision    recall  f1-score   support\n",
      "\n",
      "          C1       0.00      0.00      0.00         8\n",
      "          B2       0.36      0.75      0.49        12\n",
      "          B1       0.38      0.25      0.30        12\n",
      "      A2/A2+       0.00      0.00      0.00         2\n",
      "\n",
      "    accuracy                           0.35        34\n",
      "   macro avg       0.18      0.25      0.20        34\n",
      "weighted avg       0.26      0.35      0.28        34\n",
      "\n"
     ]
    },
    {
     "name": "stderr",
     "output_type": "stream",
     "text": [
      "c:\\Users\\Kirill\\AppData\\Local\\Programs\\Python\\Python310\\lib\\site-packages\\sklearn\\metrics\\_classification.py:1334: UndefinedMetricWarning: Precision and F-score are ill-defined and being set to 0.0 in labels with no predicted samples. Use `zero_division` parameter to control this behavior.\n",
      "  _warn_prf(average, modifier, msg_start, len(result))\n",
      "c:\\Users\\Kirill\\AppData\\Local\\Programs\\Python\\Python310\\lib\\site-packages\\sklearn\\metrics\\_classification.py:1334: UndefinedMetricWarning: Precision and F-score are ill-defined and being set to 0.0 in labels with no predicted samples. Use `zero_division` parameter to control this behavior.\n",
      "  _warn_prf(average, modifier, msg_start, len(result))\n",
      "c:\\Users\\Kirill\\AppData\\Local\\Programs\\Python\\Python310\\lib\\site-packages\\sklearn\\metrics\\_classification.py:1334: UndefinedMetricWarning: Precision and F-score are ill-defined and being set to 0.0 in labels with no predicted samples. Use `zero_division` parameter to control this behavior.\n",
      "  _warn_prf(average, modifier, msg_start, len(result))\n"
     ]
    }
   ],
   "source": [
    "report = classification_report(y_test, y_preds, target_names=[\n",
    "    'C1',\n",
    "    'B2',\n",
    "    'B1',\n",
    "    'A2/A2+'\n",
    "])\n",
    "print(report)"
   ]
  },
  {
   "cell_type": "code",
   "execution_count": 118,
   "metadata": {},
   "outputs": [
    {
     "name": "stdout",
     "output_type": "stream",
     "text": [
      " Model F1-score: 0.2775834658187599\n"
     ]
    }
   ],
   "source": [
    "print( f' Model F1-score: {f1_score(y_test, y_preds, average=\"weighted\")}' )"
   ]
  },
  {
   "cell_type": "code",
   "execution_count": 88,
   "metadata": {},
   "outputs": [
    {
     "name": "stdout",
     "output_type": "stream",
     "text": [
      "Fitting 3 folds for each of 20 candidates, totalling 60 fits\n"
     ]
    },
    {
     "data": {
      "image/png": "[encoded data removed]",
      "text/plain": [
       "<Figure size 800x500 with 2 Axes>"
      ]
     },
     "metadata": {},
     "output_type": "display_data"
    }
   ],
   "source": [
    "# vocabulary=words['name'].unique()\n",
    "# \n",
    "vectorizer = TfidfVectorizer(**estimator[0].get_params(deep=True))\n",
    "vectorizer.fit(x)\n",
    "\n",
    "vect_x = vectorizer.transform(x)\n",
    "\n",
    "nm = NearMiss()\n",
    "X_res, Y_res = nm.fit_resample(vect_x, y)\n",
    "pipeline2 = Pipeline( steps = [(\"base\", RandomForestClassifier() )]  )\n",
    "# CatBoostClassifier(task_type='GPU')\n",
    "param_grid2 = {\n",
    "    \"base__n_estimators\": [i for i in range(150,250,50)],\n",
    "    \"base__max_depth\": [i for i in range(10,60,5)],\n",
    "    \"base__min_samples_split\":[i for i in range(2,4,2)],\n",
    "    \"base__min_samples_leaf\": [2],\n",
    "}\n",
    "estimator2 = search_best_estimator(pipeline2, param_grid2, X_res, Y_res)\n",
    "X_train, X_test, y_train, y_test = train_test_split(\n",
    "    vect_x, y, random_state=42, test_size=0.3, stratify=y\n",
    ")\n",
    "estimator2.fit(X_res, Y_res)\n",
    "y_preds2 = estimator2.predict(X_test)\n",
    "plot_confusion_matrix(y_test, y_preds2, estimator2)\n"
   ]
  },
  {
   "cell_type": "code",
   "execution_count": 89,
   "metadata": {},
   "outputs": [
    {
     "name": "stdout",
     "output_type": "stream",
     "text": [
      "              precision    recall  f1-score   support\n",
      "\n",
      "          C1       0.33      0.38      0.35         8\n",
      "          B2       0.56      0.42      0.48        12\n",
      "          B1       0.75      0.25      0.38        12\n",
      "      A2/A2+       0.17      1.00      0.29         2\n",
      "\n",
      "    accuracy                           0.38        34\n",
      "   macro avg       0.45      0.51      0.37        34\n",
      "weighted avg       0.55      0.38      0.40        34\n",
      "\n"
     ]
    }
   ],
   "source": [
    "report = classification_report(y_test, y_preds2, target_names=[\n",
    "    'C1',\n",
    "    'B2',\n",
    "    'B1',\n",
    "    'A2/A2+'\n",
    "])\n",
    "print(report)"
   ]
  },
  {
   "cell_type": "code",
   "execution_count": 90,
   "metadata": {},
   "outputs": [
    {
     "name": "stdout",
     "output_type": "stream",
     "text": [
      " Model F1-score: 0.40027187345526444\n"
     ]
    }
   ],
   "source": [
    "print( f' Model F1-score: {f1_score(y_test, y_preds2, average=\"weighted\")}' )"
   ]
  },
  {
   "cell_type": "code",
   "execution_count": null,
   "metadata": {},
   "outputs": [],
   "source": [
    "# vect_x = vectorizer.transform(x)\n",
    "# vect_x = sparse.hstack((sparse.csr_matrix(df_films_splitted[['mean','median']].values), vect_x))\n",
    "\n",
    "# nm = NearMiss()\n",
    "# X_res, Y_res = nm.fit_resample(vect_x, y)\n",
    "# pipeline2 = Pipeline( steps = [(\"base\", RandomForestClassifier() )]  )\n",
    "\n",
    "# param_grid2 = {\n",
    "#     \"base__n_estimators\": [i for i in range(150,250,50)],\n",
    "#     \"base__max_depth\": [i for i in range(25,35,5)],\n",
    "#     \"base__min_samples_split\":[i for i in range(6,10,2)],\n",
    "#     \"base__min_samples_leaf\": [2],\n",
    "# }\n",
    "# estimator2 = search_best_estimator(pipeline2, param_grid2, X_res, Y_res)\n",
    "# X_train, X_test, y_train, y_test = train_test_split(\n",
    "#     vect_x, y, random_state=42, test_size=0.3, stratify=y\n",
    "# )\n",
    "# estimator2.fit(X_res, Y_res)\n",
    "# y_preds2 = estimator2.predict(X_test)\n",
    "# plot_confusion_matrix(y_test, y_preds2, estimator2)"
   ]
  },
  {
   "cell_type": "code",
   "execution_count": null,
   "metadata": {},
   "outputs": [],
   "source": [
    "# feature_importances = pd.DataFrame(estimator2[0].feature_importances_, index=vectorizer.get_feature_names() + ['mean','median'], columns=['importances']).sort_values(by='importances', ascending=False)"
   ]
  },
  {
   "cell_type": "code",
   "execution_count": null,
   "metadata": {},
   "outputs": [],
   "source": [
    "# vect_x = vectorizer.transform(x)\n",
    "# vect_x = sparse.hstack((sparse.csr_matrix(df_films_splitted[['mean','median']].values), vect_x))\n",
    "\n",
    "# nm = NearMiss()\n",
    "# X_res, Y_res = nm.fit_resample(vect_x, y)\n",
    "# pipeline2 = Pipeline( steps = [(\"base\", CatBoostClassifier(iterations=100, learning_rate=0.1, depth=10, task_type='GPU') )]  )\n",
    "# # CatBoostClassifier(task_type='GPU')\n",
    "# param_grid2 = {\n",
    "#     # \"base__n_estimators\": [i for i in range(200,300,50)],\n",
    "#     # \"base__max_depth\": [i for i in range(25,35,5)],\n",
    "#     # \"base__min_samples_split\": [i for i in range(8,12,2)],\n",
    "# }\n",
    "# estimator2 = search_best_estimator(pipeline2, param_grid2, X_res, Y_res)\n",
    "# X_train, X_test, y_train, y_test = train_test_split(\n",
    "#     vect_x, y, random_state=42, test_size=0.3, stratify=y\n",
    "# )\n",
    "# estimator2.fit(X_res, Y_res)\n",
    "# y_preds2 = estimator2.predict(X_test)\n",
    "# plot_confusion_matrix(y_test, y_preds2, estimator2)"
   ]
  },
  {
   "cell_type": "code",
   "execution_count": null,
   "metadata": {},
   "outputs": [],
   "source": [
    "# https://stackoverflow.com/a/69678207\n",
    "# https://habr.com/ru/post/702626/"
   ]
  }
 ],
 "metadata": {
  "kernelspec": {
   "display_name": "Python 3",
   "language": "python",
   "name": "python3"
  },
  "language_info": {
   "codemirror_mode": {
    "name": "ipython",
    "version": 3
   },
   "file_extension": ".py",
   "mimetype": "text/x-python",
   "name": "python",
   "nbconvert_exporter": "python",
   "pygments_lexer": "ipython3",
   "version": "3.10.6"
  },
  "orig_nbformat": 4,
  "vscode": {
   "interpreter": {
    "hash": "4ae014aa0c140bf18c89a580af6667d9b98d6bbe24021bb45f64159ca85cd197"
   }
  }
 },
 "nbformat": 4,
 "nbformat_minor": 2
}
