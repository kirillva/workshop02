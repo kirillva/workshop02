{
 "cells": [
  {
   "cell_type": "code",
   "execution_count": 51,
   "metadata": {},
   "outputs": [],
   "source": [
    "import re\n",
    "import srt \n",
    "import glob\n",
    "import pandas as pd\n",
    "import os\n",
    "import numpy as np\n",
    "from fuzzywuzzy import fuzz\n",
    "from fuzzywuzzy import process\n",
    "\n",
    "import spacy\n",
    "\n",
    "from sklearn.experimental import enable_halving_search_cv\n",
    "from sklearn.model_selection import (\n",
    "    train_test_split,\n",
    "    HalvingRandomSearchCV\n",
    ")\n",
    "from sklearn.metrics import (\n",
    "    ConfusionMatrixDisplay, confusion_matrix,\n",
    "    f1_score, roc_auc_score,\n",
    "    classification_report, make_scorer\n",
    ")\n",
    "\n",
    "import matplotlib.pyplot as plt\n",
    "\n",
    "from sklearn.feature_extraction.text import TfidfVectorizer\n",
    "from sklearn.pipeline import Pipeline, make_pipeline\n",
    "\n",
    "from sklearn.ensemble import RandomForestClassifier\n",
    "\n",
    "from imblearn.under_sampling import NearMiss \n",
    "\n",
    "from catboost import CatBoostClassifier, CatBoostRegressor, Pool\n",
    "\n",
    "from sklearn.feature_extraction.text import CountVectorizer\n",
    "from scipy import sparse"
   ]
  },
  {
   "attachments": {},
   "cell_type": "markdown",
   "metadata": {},
   "source": []
  },
  {
   "cell_type": "code",
   "execution_count": 52,
   "metadata": {},
   "outputs": [],
   "source": [
    "DATA_PATH = 'English_level/data_all'\n",
    "\n",
    "HTML = r'<.*?>'\n",
    "TAG = r'{.*?}'\n",
    "COMMENTS = r'[\\(\\[][A-Z ]+[\\)\\]]'\n",
    "LETTERS = r'[^a-zA-Z\\'.,!? ]'\n",
    "SPACES = r'([ ])\\1+'\n",
    "DOTS = r'[\\.]+'\n",
    "\n",
    "YEAR_SRT = r'(\\(\\d{4}\\))'\n",
    "CLEAN_TEXT = r'[^a-z\\s\\|]'\n",
    "\n",
    "def clean_subs(subs):\n",
    "    txt = re.sub(HTML, ' ', subs) #html тэги меняем на пробел\n",
    "    txt = re.sub(TAG, ' ', txt) #тэги меняем на пробел\n",
    "    txt = re.sub(COMMENTS, ' ', txt) #комменты меняем на пробел\n",
    "    txt = re.sub(LETTERS, ' ', txt) #все что не буквы меняем на пробел\n",
    "    txt = re.sub(SPACES, r'\\1', txt) #повторяющиеся пробелы меняем на один пробел\n",
    "    txt = re.sub(DOTS, r'.', txt)  #многоточие меняем на точку\n",
    "    return txt"
   ]
  },
  {
   "attachments": {},
   "cell_type": "markdown",
   "metadata": {},
   "source": [
    "### Предобработка данных\n",
    "\n",
    "Читаем файлы, создаем переменные:\n",
    "dframes - обьект, связывающий имена файлов с датафреймами субтитров.\n",
    "films - датафрейм с именами фильмов и классификацией"
   ]
  },
  {
   "cell_type": "code",
   "execution_count": 53,
   "metadata": {},
   "outputs": [],
   "source": [
    "dframes = {}\n",
    "files = glob.glob(f'{DATA_PATH}/Subtitles_all/*.srt')\n",
    "\n",
    "for filename in files:\n",
    "    try:\n",
    "        with open(filename) as f:\n",
    "            #удаляем все что не ascii символы   \n",
    "            subtitle_generator = srt.parse(f.read().encode('ascii', 'ignore').decode())\n",
    "            #удаляем первый и последний субтитр (обычно это реклама)\n",
    "            df = pd.DataFrame(list([[item.start, item.end, item.content] for item in subtitle_generator][1:-1]), columns=['start','end','content'])\n",
    "            df['content'] = df['content'].apply(clean_subs)\n",
    "            df['content'] = df['content'].str.strip().replace('', np.nan).str.lower()\n",
    "            df.dropna(subset=['content'], inplace=True)\n",
    "            df.reset_index(drop=True, inplace=True)\n",
    "\n",
    "            dframes[os.path.basename(f.name)] = df\n",
    "\n",
    "    except srt.SRTParseError as e:\n",
    "        print(filename, e)\n",
    "        \n",
    "films = pd.DataFrame([n for n in dframes], columns=['name'])\n",
    "films['year'] = films['name'].str.extract(YEAR_SRT, flags=0)\n",
    "films['parsed_name'] = films.apply(lambda x: x['name'].replace(str(x['year']), '').replace('_', ' ').replace('.srt', ''), axis=1)\n",
    "\n",
    "labels = pd.read_csv(f'{DATA_PATH}/labels_all.csv')"
   ]
  },
  {
   "cell_type": "code",
   "execution_count": 54,
   "metadata": {},
   "outputs": [
    {
     "data": {
      "text/html": [
       "<div>\n",
       "<style scoped>\n",
       "    .dataframe tbody tr th:only-of-type {\n",
       "        vertical-align: middle;\n",
       "    }\n",
       "\n",
       "    .dataframe tbody tr th {\n",
       "        vertical-align: top;\n",
       "    }\n",
       "\n",
       "    .dataframe thead th {\n",
       "        text-align: right;\n",
       "    }\n",
       "</style>\n",
       "<table border=\"1\" class=\"dataframe\">\n",
       "  <thead>\n",
       "    <tr style=\"text-align: right;\">\n",
       "      <th></th>\n",
       "      <th>movie</th>\n",
       "      <th>level</th>\n",
       "      <th>name</th>\n",
       "    </tr>\n",
       "    <tr>\n",
       "      <th>index</th>\n",
       "      <th></th>\n",
       "      <th></th>\n",
       "      <th></th>\n",
       "    </tr>\n",
       "  </thead>\n",
       "  <tbody>\n",
       "    <tr>\n",
       "      <th>37</th>\n",
       "      <td>Forrest Gump</td>\n",
       "      <td>B1</td>\n",
       "      <td>Forrest_Gump(1994).srt</td>\n",
       "    </tr>\n",
       "    <tr>\n",
       "      <th>36</th>\n",
       "      <td>Finding Nemo\\n</td>\n",
       "      <td>A2/A2+</td>\n",
       "      <td>Finding_Nemo(2003).srt</td>\n",
       "    </tr>\n",
       "    <tr>\n",
       "      <th>21</th>\n",
       "      <td>Cast away\\n</td>\n",
       "      <td>A2/A2+</td>\n",
       "      <td>Cast_away(2000).srt</td>\n",
       "    </tr>\n",
       "    <tr>\n",
       "      <th>91</th>\n",
       "      <td>The invisible man (2020)\\n</td>\n",
       "      <td>A2/A2+</td>\n",
       "      <td>The_invisible_man(2020).srt</td>\n",
       "    </tr>\n",
       "    <tr>\n",
       "      <th>8</th>\n",
       "      <td>Back to the future\\n</td>\n",
       "      <td>A2/A2+</td>\n",
       "      <td>Back_to_the_future(1985).srt</td>\n",
       "    </tr>\n",
       "    <tr>\n",
       "      <th>...</th>\n",
       "      <td>...</td>\n",
       "      <td>...</td>\n",
       "      <td>...</td>\n",
       "    </tr>\n",
       "    <tr>\n",
       "      <th>48</th>\n",
       "      <td>Klaus</td>\n",
       "      <td>C1</td>\n",
       "      <td>Klaus(2019).srt</td>\n",
       "    </tr>\n",
       "    <tr>\n",
       "      <th>67</th>\n",
       "      <td>Ocean’s Eleven</td>\n",
       "      <td>C1</td>\n",
       "      <td>Oceans_Eleven(2001).srt</td>\n",
       "    </tr>\n",
       "    <tr>\n",
       "      <th>68</th>\n",
       "      <td>Ocean’s Twelve</td>\n",
       "      <td>C1</td>\n",
       "      <td>Oceans_Twelve(2004).srt</td>\n",
       "    </tr>\n",
       "    <tr>\n",
       "      <th>17</th>\n",
       "      <td>Bridget Jones’s Baby</td>\n",
       "      <td>C1</td>\n",
       "      <td>Bridget_Joness_Baby.srt</td>\n",
       "    </tr>\n",
       "    <tr>\n",
       "      <th>62</th>\n",
       "      <td>Mona Lisa Smile</td>\n",
       "      <td>C1</td>\n",
       "      <td>Mona_Lisa_Smile(2003).srt</td>\n",
       "    </tr>\n",
       "  </tbody>\n",
       "</table>\n",
       "<p>111 rows × 3 columns</p>\n",
       "</div>"
      ],
      "text/plain": [
       "                            movie   level                          name\n",
       "index                                                                  \n",
       "37                   Forrest Gump      B1        Forrest_Gump(1994).srt\n",
       "36                 Finding Nemo\\n  A2/A2+        Finding_Nemo(2003).srt\n",
       "21                    Cast away\\n  A2/A2+           Cast_away(2000).srt\n",
       "91     The invisible man (2020)\\n  A2/A2+   The_invisible_man(2020).srt\n",
       "8            Back to the future\\n  A2/A2+  Back_to_the_future(1985).srt\n",
       "...                           ...     ...                           ...\n",
       "48                          Klaus      C1               Klaus(2019).srt\n",
       "67                 Ocean’s Eleven      C1       Oceans_Eleven(2001).srt\n",
       "68                 Ocean’s Twelve      C1       Oceans_Twelve(2004).srt\n",
       "17           Bridget Jones’s Baby      C1       Bridget_Joness_Baby.srt\n",
       "62                Mona Lisa Smile      C1     Mona_Lisa_Smile(2003).srt\n",
       "\n",
       "[111 rows x 3 columns]"
      ]
     },
     "metadata": {},
     "output_type": "display_data"
    }
   ],
   "source": [
    "for index in labels.index:\n",
    "    item = labels.loc[index, 'Movie']\n",
    "    found = process.extractOne(item, films['parsed_name'])\n",
    "    labels.loc[index, ['found', 'probability', 'index']] = found\n",
    "\n",
    "labels['index'] = labels['index'].astype(int)\n",
    "films = labels.set_index('index').join(films)\n",
    "\n",
    "def getClass(title):\n",
    "    if title.find('C1') >= 0:\n",
    "        return 'C1'\n",
    "    if title.find('B2') >= 0:\n",
    "        return 'B2'\n",
    "    if title.find('B1') >= 0:\n",
    "        return 'B1'\n",
    "    if title.find('A2+') >= 0:\n",
    "        return 'A2/A2+'\n",
    "    \n",
    "films['Level'] = films['Level'].apply(getClass)\n",
    "films = films[['Movie', 'Level', 'name']]\n",
    "films.columns = ['movie', 'level', 'name']\n",
    "display(films)"
   ]
  },
  {
   "attachments": {},
   "cell_type": "markdown",
   "metadata": {},
   "source": [
    "Создаем вспомогательные функции для лемматизации, обучения модели и построения матрицы."
   ]
  },
  {
   "cell_type": "code",
   "execution_count": 55,
   "metadata": {},
   "outputs": [],
   "source": [
    "nlp = spacy.load('en_core_web_sm', disable=['parser', 'ner'])\n",
    "def lemmatize(text):    \n",
    "    doc = nlp(text)\n",
    "    \n",
    "    lemmatized_text = ' '.join(['' if token.is_stop else token.lemma_ for token in doc])\n",
    "    lemmatized_text = re.sub(CLEAN_TEXT, ' ', lemmatized_text)\n",
    "    lemmatized_text = re.sub(SPACES, r'\\1', lemmatized_text)\n",
    "\n",
    "    return lemmatized_text.split('|')"
   ]
  },
  {
   "cell_type": "code",
   "execution_count": 56,
   "metadata": {},
   "outputs": [],
   "source": [
    "def search_best_estimator(pipeline, param_grid, x, y):\n",
    "    hrs = HalvingRandomSearchCV(\n",
    "        estimator=pipeline,\n",
    "        param_distributions=param_grid,\n",
    "        scoring='f1_weighted',\n",
    "        cv=3,\n",
    "        n_candidates=\"exhaust\",\n",
    "        factor=5,\n",
    "        n_jobs=-1,\n",
    "        verbose=2\n",
    "    )\n",
    "    _ = hrs.fit(x, y)\n",
    "    return hrs.best_estimator_"
   ]
  },
  {
   "cell_type": "code",
   "execution_count": 57,
   "metadata": {},
   "outputs": [],
   "source": [
    "def plot_confusion_matrix(y_test, y_preds, model):\n",
    "    fig, ax = plt.subplots(figsize=(8,5))\n",
    "    cm = confusion_matrix(y_test, y_preds)\n",
    "    cmp = ConfusionMatrixDisplay(cm, display_labels = model.classes_ )\n",
    "    cmp.plot(ax=ax)\n",
    "    plt.show()"
   ]
  },
  {
   "cell_type": "code",
   "execution_count": 58,
   "metadata": {},
   "outputs": [],
   "source": [
    "for index in films.index:\n",
    "    name = films.loc[index, 'name']\n",
    "    text = '|'.join(dframes[name]['content'])\n",
    "    result = lemmatize(text)\n",
    "    dframes[name]['content'] = pd.Series(result)"
   ]
  },
  {
   "attachments": {},
   "cell_type": "markdown",
   "metadata": {},
   "source": [
    "Поскольку данных мало увеличим их количество путем разбиения текстов на части, каждой части назначен класс оригинального фильма"
   ]
  },
  {
   "cell_type": "code",
   "execution_count": 59,
   "metadata": {},
   "outputs": [],
   "source": [
    "content = []\n",
    "titles = []\n",
    "mean = []\n",
    "median = []\n",
    "split_factors = 16\n",
    "\n",
    "for name in dframes:\n",
    "    df_content = dframes[name]['content']\n",
    "    size = df_content.size // split_factors\n",
    "    for i in range(split_factors):\n",
    "        titles.append(name)\n",
    "        dframes[name]['content'].str.split(' ').apply(lambda x: len(x)) / (dframes[name].end - dframes[name].start).dt.total_seconds()\n",
    "        df_part = dframes[name][i * size : (i+1) * size]\n",
    "        df_div = df_part['content'].str.split(' ').apply(lambda x: len(x)) / (df_part['end'] - df_part['start']).dt.total_seconds()\n",
    "        mean.append(df_div[(df_div > 0.1) & (df_div < 5)].mean())\n",
    "        median.append(df_div[(df_div > 0.1) & (df_div < 5)].median())\n",
    "        content.append(''.join(df_content[i * size : (i+1) * size]))"
   ]
  },
  {
   "cell_type": "code",
   "execution_count": 60,
   "metadata": {},
   "outputs": [],
   "source": [
    "df_films_splitted = films.merge(pd.DataFrame(data={'name':titles, 'content':content, 'mean': mean, 'median': median}), on='name')\n",
    "df_films_splitted = df_films_splitted[['level', 'content', 'mean', 'median']].reset_index(drop=True)"
   ]
  },
  {
   "cell_type": "code",
   "execution_count": 61,
   "metadata": {},
   "outputs": [
    {
     "data": {
      "text/plain": [
       "B1        640\n",
       "B2        608\n",
       "A2/A2+    400\n",
       "C1        128\n",
       "Name: level, dtype: int64"
      ]
     },
     "execution_count": 61,
     "metadata": {},
     "output_type": "execute_result"
    }
   ],
   "source": [
    "df_films_splitted['level'].value_counts()"
   ]
  },
  {
   "cell_type": "code",
   "execution_count": 133,
   "metadata": {},
   "outputs": [],
   "source": [
    "words = pd.read_csv(f'Parsed/words.csv', index_col=[0])"
   ]
  },
  {
   "cell_type": "code",
   "execution_count": 158,
   "metadata": {},
   "outputs": [
    {
     "name": "stdout",
     "output_type": "stream",
     "text": [
      "n_iterations: 3\n",
      "n_required_iterations: 3\n",
      "n_possible_iterations: 3\n",
      "min_resources_: 24\n",
      "max_resources_: 1776\n",
      "aggressive_elimination: False\n",
      "factor: 5\n",
      "----------\n",
      "iter: 0\n",
      "n_candidates: 74\n",
      "n_resources: 24\n",
      "Fitting 3 folds for each of 74 candidates, totalling 222 fits\n",
      "----------\n",
      "iter: 1\n",
      "n_candidates: 15\n",
      "n_resources: 120\n",
      "Fitting 3 folds for each of 15 candidates, totalling 45 fits\n",
      "----------\n",
      "iter: 2\n",
      "n_candidates: 3\n",
      "n_resources: 600\n",
      "Fitting 3 folds for each of 3 candidates, totalling 9 fits\n"
     ]
    },
    {
     "data": {
      "image/png": "[encoded data removed]",
      "text/plain": [
       "<Figure size 800x500 with 2 Axes>"
      ]
     },
     "metadata": {},
     "output_type": "display_data"
    }
   ],
   "source": [
    "x, y = df_films_splitted['content'].tolist(), df_films_splitted['level'].tolist()\n",
    "\n",
    "# vocabulary=words['name'].str.strip().str.lower().unique()\n",
    "pipeline = Pipeline(\n",
    "    steps = [(\"tfidf\", TfidfVectorizer() ),(\"base\", RandomForestClassifier() )]\n",
    ")\n",
    "\n",
    "param_grid = {\n",
    "    \"tfidf__min_df\": [i for i in range(0,20,5)],\n",
    "    \"tfidf__max_df\": [i for i in range(50,100,10)],\n",
    "    \"base__n_estimators\": [i for i in range(150,250,50)],\n",
    "    \"base__max_depth\": [i for i in range(25,35,5)],\n",
    "    \"base__min_samples_split\":[i for i in range(6,10,2)],\n",
    "    \"base__min_samples_leaf\": [2],\n",
    "}\n",
    "\n",
    "estimator = search_best_estimator(pipeline, param_grid, x, y)\n",
    "\n",
    "X_train, X_test, y_train, y_test = train_test_split(\n",
    "    x, y, random_state=42, test_size=0.3, stratify=y\n",
    ")\n",
    "estimator.fit(X_train, y_train)\n",
    "y_preds = estimator.predict(X_test)\n",
    "plot_confusion_matrix(y_test, y_preds, estimator)"
   ]
  },
  {
   "cell_type": "code",
   "execution_count": 173,
   "metadata": {},
   "outputs": [
    {
     "name": "stdout",
     "output_type": "stream",
     "text": [
      "              precision    recall  f1-score   support\n",
      "\n",
      "          C1       0.97      0.57      0.72       120\n",
      "          B2       0.66      0.92      0.77       192\n",
      "          B1       0.83      0.83      0.83       183\n",
      "      A2/A2+       1.00      0.37      0.54        38\n",
      "\n",
      "    accuracy                           0.77       533\n",
      "   macro avg       0.87      0.67      0.71       533\n",
      "weighted avg       0.81      0.77      0.76       533\n",
      "\n"
     ]
    }
   ],
   "source": [
    "report = classification_report(y_test, y_preds, target_names=[\n",
    "    'C1',\n",
    "    'B2',\n",
    "    'B1',\n",
    "    'A2/A2+'\n",
    "])\n",
    "print(report)"
   ]
  },
  {
   "cell_type": "code",
   "execution_count": 172,
   "metadata": {},
   "outputs": [
    {
     "name": "stdout",
     "output_type": "stream",
     "text": [
      " Model F1-score: 0.7619889803932388\n"
     ]
    }
   ],
   "source": [
    "print( f' Model F1-score: {f1_score(y_test, y_preds, average=\"weighted\")}' )"
   ]
  },
  {
   "cell_type": "code",
   "execution_count": 159,
   "metadata": {},
   "outputs": [
    {
     "name": "stdout",
     "output_type": "stream",
     "text": [
      "n_iterations: 2\n",
      "n_required_iterations: 2\n",
      "n_possible_iterations: 2\n",
      "min_resources_: 24\n",
      "max_resources_: 512\n",
      "aggressive_elimination: False\n",
      "factor: 5\n",
      "----------\n",
      "iter: 0\n",
      "n_candidates: 8\n",
      "n_resources: 24\n",
      "Fitting 3 folds for each of 8 candidates, totalling 24 fits\n"
     ]
    },
    {
     "name": "stderr",
     "output_type": "stream",
     "text": [
      "c:\\Users\\Kirill\\AppData\\Local\\Programs\\Python\\Python310\\lib\\site-packages\\sklearn\\model_selection\\_search.py:306: UserWarning: The total space of parameters 8 is smaller than n_iter=21. Running 8 iterations. For exhaustive searches, use GridSearchCV.\n",
      "  warnings.warn(\n"
     ]
    },
    {
     "name": "stdout",
     "output_type": "stream",
     "text": [
      "----------\n",
      "iter: 1\n",
      "n_candidates: 2\n",
      "n_resources: 120\n",
      "Fitting 3 folds for each of 2 candidates, totalling 6 fits\n"
     ]
    },
    {
     "data": {
      "image/png": "[encoded data removed]",
      "text/plain": [
       "<Figure size 800x500 with 2 Axes>"
      ]
     },
     "metadata": {},
     "output_type": "display_data"
    }
   ],
   "source": [
    "# vocabulary=words['name'].unique()\n",
    "# \n",
    "vectorizer = TfidfVectorizer(**estimator[0].get_params(deep=True))\n",
    "vectorizer.fit(x)\n",
    "\n",
    "vect_x = vectorizer.transform(x)\n",
    "\n",
    "nm = NearMiss()\n",
    "X_res, Y_res = nm.fit_resample(vect_x, y)\n",
    "pipeline2 = Pipeline( steps = [(\"base\", RandomForestClassifier() )]  )\n",
    "# CatBoostClassifier(task_type='GPU')\n",
    "param_grid2 = {\n",
    "    \"base__n_estimators\": [i for i in range(150,250,50)],\n",
    "    \"base__max_depth\": [i for i in range(25,35,5)],\n",
    "    \"base__min_samples_split\":[i for i in range(6,10,2)],\n",
    "    \"base__min_samples_leaf\": [2],\n",
    "}\n",
    "estimator2 = search_best_estimator(pipeline2, param_grid2, X_res, Y_res)\n",
    "X_train, X_test, y_train, y_test = train_test_split(\n",
    "    vect_x, y, random_state=42, test_size=0.3, stratify=y\n",
    ")\n",
    "estimator2.fit(X_res, Y_res)\n",
    "y_preds2 = estimator2.predict(X_test)\n",
    "plot_confusion_matrix(y_test, y_preds2, estimator2)\n"
   ]
  },
  {
   "cell_type": "code",
   "execution_count": 167,
   "metadata": {},
   "outputs": [
    {
     "name": "stdout",
     "output_type": "stream",
     "text": [
      "              precision    recall  f1-score   support\n",
      "\n",
      "          C1       0.59      0.76      0.67       120\n",
      "          B2       0.59      0.73      0.65       192\n",
      "          B1       0.71      0.38      0.50       183\n",
      "      A2/A2+       0.88      0.97      0.93        38\n",
      "\n",
      "    accuracy                           0.64       533\n",
      "   macro avg       0.69      0.71      0.69       533\n",
      "weighted avg       0.65      0.64      0.62       533\n",
      "\n"
     ]
    }
   ],
   "source": [
    "report = classification_report(y_test, y_preds2, target_names=[\n",
    "    'C1',\n",
    "    'B2',\n",
    "    'B1',\n",
    "    'A2/A2+'\n",
    "])\n",
    "print(report)"
   ]
  },
  {
   "cell_type": "code",
   "execution_count": 163,
   "metadata": {},
   "outputs": [
    {
     "name": "stdout",
     "output_type": "stream",
     "text": [
      "n_iterations: 2\n",
      "n_required_iterations: 2\n",
      "n_possible_iterations: 2\n",
      "min_resources_: 24\n",
      "max_resources_: 512\n",
      "aggressive_elimination: False\n",
      "factor: 5\n",
      "----------\n",
      "iter: 0\n",
      "n_candidates: 8\n",
      "n_resources: 24\n",
      "Fitting 3 folds for each of 8 candidates, totalling 24 fits\n"
     ]
    },
    {
     "name": "stderr",
     "output_type": "stream",
     "text": [
      "c:\\Users\\Kirill\\AppData\\Local\\Programs\\Python\\Python310\\lib\\site-packages\\sklearn\\model_selection\\_search.py:306: UserWarning: The total space of parameters 8 is smaller than n_iter=21. Running 8 iterations. For exhaustive searches, use GridSearchCV.\n",
      "  warnings.warn(\n"
     ]
    },
    {
     "name": "stdout",
     "output_type": "stream",
     "text": [
      "----------\n",
      "iter: 1\n",
      "n_candidates: 2\n",
      "n_resources: 120\n",
      "Fitting 3 folds for each of 2 candidates, totalling 6 fits\n"
     ]
    },
    {
     "data": {
      "image/png": "[encoded data removed]",
      "text/plain": [
       "<Figure size 800x500 with 2 Axes>"
      ]
     },
     "metadata": {},
     "output_type": "display_data"
    }
   ],
   "source": [
    "# vect_x = vectorizer.transform(x)\n",
    "# vect_x = sparse.hstack((sparse.csr_matrix(df_films_splitted[['mean','median']].values), vect_x))\n",
    "\n",
    "# nm = NearMiss()\n",
    "# X_res, Y_res = nm.fit_resample(vect_x, y)\n",
    "# pipeline2 = Pipeline( steps = [(\"base\", RandomForestClassifier() )]  )\n",
    "\n",
    "# param_grid2 = {\n",
    "#     \"base__n_estimators\": [i for i in range(150,250,50)],\n",
    "#     \"base__max_depth\": [i for i in range(25,35,5)],\n",
    "#     \"base__min_samples_split\":[i for i in range(6,10,2)],\n",
    "#     \"base__min_samples_leaf\": [2],\n",
    "# }\n",
    "# estimator2 = search_best_estimator(pipeline2, param_grid2, X_res, Y_res)\n",
    "# X_train, X_test, y_train, y_test = train_test_split(\n",
    "#     vect_x, y, random_state=42, test_size=0.3, stratify=y\n",
    "# )\n",
    "# estimator2.fit(X_res, Y_res)\n",
    "# y_preds2 = estimator2.predict(X_test)\n",
    "# plot_confusion_matrix(y_test, y_preds2, estimator2)"
   ]
  },
  {
   "cell_type": "code",
   "execution_count": 113,
   "metadata": {},
   "outputs": [
    {
     "name": "stderr",
     "output_type": "stream",
     "text": [
      "c:\\Users\\Kirill\\AppData\\Local\\Programs\\Python\\Python310\\lib\\site-packages\\sklearn\\utils\\deprecation.py:87: FutureWarning: Function get_feature_names is deprecated; get_feature_names is deprecated in 1.0 and will be removed in 1.2. Please use get_feature_names_out instead.\n",
      "  warnings.warn(msg, category=FutureWarning)\n"
     ]
    }
   ],
   "source": [
    "# feature_importances = pd.DataFrame(estimator2[0].feature_importances_, index=vectorizer.get_feature_names() + ['mean','median'], columns=['importances']).sort_values(by='importances', ascending=False)"
   ]
  },
  {
   "cell_type": "code",
   "execution_count": 128,
   "metadata": {},
   "outputs": [
    {
     "name": "stdout",
     "output_type": "stream",
     "text": [
      "n_iterations: 1\n",
      "n_required_iterations: 1\n",
      "n_possible_iterations: 2\n",
      "min_resources_: 24\n",
      "max_resources_: 512\n",
      "aggressive_elimination: False\n",
      "factor: 5\n",
      "----------\n",
      "iter: 0\n",
      "n_candidates: 1\n",
      "n_resources: 24\n",
      "Fitting 3 folds for each of 1 candidates, totalling 3 fits\n"
     ]
    },
    {
     "name": "stderr",
     "output_type": "stream",
     "text": [
      "c:\\Users\\Kirill\\AppData\\Local\\Programs\\Python\\Python310\\lib\\site-packages\\sklearn\\model_selection\\_search.py:306: UserWarning: The total space of parameters 1 is smaller than n_iter=21. Running 1 iterations. For exhaustive searches, use GridSearchCV.\n",
      "  warnings.warn(\n"
     ]
    },
    {
     "name": "stdout",
     "output_type": "stream",
     "text": [
      "0:\tlearn: 1.3373171\ttotal: 36.7ms\tremaining: 3.63s\n",
      "1:\tlearn: 1.2986205\ttotal: 69.8ms\tremaining: 3.42s\n",
      "2:\tlearn: 1.2650577\ttotal: 104ms\tremaining: 3.37s\n",
      "3:\tlearn: 1.2288294\ttotal: 139ms\tremaining: 3.33s\n",
      "4:\tlearn: 1.2030685\ttotal: 174ms\tremaining: 3.3s\n",
      "5:\tlearn: 1.1768889\ttotal: 207ms\tremaining: 3.24s\n",
      "6:\tlearn: 1.1562302\ttotal: 241ms\tremaining: 3.2s\n",
      "7:\tlearn: 1.1343070\ttotal: 281ms\tremaining: 3.23s\n",
      "8:\tlearn: 1.1133518\ttotal: 317ms\tremaining: 3.2s\n",
      "9:\tlearn: 1.0931194\ttotal: 351ms\tremaining: 3.15s\n",
      "10:\tlearn: 1.0732369\ttotal: 388ms\tremaining: 3.13s\n",
      "11:\tlearn: 1.0552664\ttotal: 424ms\tremaining: 3.11s\n",
      "12:\tlearn: 1.0404139\ttotal: 459ms\tremaining: 3.07s\n",
      "13:\tlearn: 1.0266693\ttotal: 494ms\tremaining: 3.03s\n",
      "14:\tlearn: 1.0133967\ttotal: 529ms\tremaining: 3s\n",
      "15:\tlearn: 1.0003693\ttotal: 563ms\tremaining: 2.96s\n",
      "16:\tlearn: 0.9870389\ttotal: 596ms\tremaining: 2.91s\n",
      "17:\tlearn: 0.9754310\ttotal: 630ms\tremaining: 2.87s\n",
      "18:\tlearn: 0.9638335\ttotal: 666ms\tremaining: 2.84s\n",
      "19:\tlearn: 0.9519652\ttotal: 699ms\tremaining: 2.8s\n",
      "20:\tlearn: 0.9399194\ttotal: 735ms\tremaining: 2.76s\n",
      "21:\tlearn: 0.9283398\ttotal: 768ms\tremaining: 2.72s\n",
      "22:\tlearn: 0.9171898\ttotal: 801ms\tremaining: 2.68s\n",
      "23:\tlearn: 0.9085360\ttotal: 834ms\tremaining: 2.64s\n",
      "24:\tlearn: 0.8990464\ttotal: 867ms\tremaining: 2.6s\n",
      "25:\tlearn: 0.8895522\ttotal: 900ms\tremaining: 2.56s\n",
      "26:\tlearn: 0.8807460\ttotal: 935ms\tremaining: 2.53s\n",
      "27:\tlearn: 0.8719411\ttotal: 968ms\tremaining: 2.49s\n",
      "28:\tlearn: 0.8625174\ttotal: 1s\tremaining: 2.46s\n",
      "29:\tlearn: 0.8536409\ttotal: 1.04s\tremaining: 2.42s\n",
      "30:\tlearn: 0.8458190\ttotal: 1.07s\tremaining: 2.39s\n",
      "31:\tlearn: 0.8377025\ttotal: 1.11s\tremaining: 2.35s\n",
      "32:\tlearn: 0.8305180\ttotal: 1.14s\tremaining: 2.32s\n",
      "33:\tlearn: 0.8231861\ttotal: 1.18s\tremaining: 2.28s\n",
      "34:\tlearn: 0.8151368\ttotal: 1.21s\tremaining: 2.25s\n",
      "35:\tlearn: 0.8084716\ttotal: 1.24s\tremaining: 2.21s\n",
      "36:\tlearn: 0.8024058\ttotal: 1.28s\tremaining: 2.17s\n",
      "37:\tlearn: 0.7949414\ttotal: 1.31s\tremaining: 2.14s\n",
      "38:\tlearn: 0.7872634\ttotal: 1.35s\tremaining: 2.11s\n",
      "39:\tlearn: 0.7799739\ttotal: 1.38s\tremaining: 2.07s\n",
      "40:\tlearn: 0.7742885\ttotal: 1.42s\tremaining: 2.04s\n",
      "41:\tlearn: 0.7673194\ttotal: 1.45s\tremaining: 2.01s\n",
      "42:\tlearn: 0.7623681\ttotal: 1.49s\tremaining: 1.97s\n",
      "43:\tlearn: 0.7571148\ttotal: 1.52s\tremaining: 1.94s\n",
      "44:\tlearn: 0.7496154\ttotal: 1.55s\tremaining: 1.9s\n",
      "45:\tlearn: 0.7453446\ttotal: 1.59s\tremaining: 1.86s\n",
      "46:\tlearn: 0.7406764\ttotal: 1.62s\tremaining: 1.83s\n",
      "47:\tlearn: 0.7339334\ttotal: 1.65s\tremaining: 1.79s\n",
      "48:\tlearn: 0.7300664\ttotal: 1.69s\tremaining: 1.76s\n",
      "49:\tlearn: 0.7245523\ttotal: 1.73s\tremaining: 1.73s\n",
      "50:\tlearn: 0.7195434\ttotal: 1.76s\tremaining: 1.69s\n",
      "51:\tlearn: 0.7148403\ttotal: 1.79s\tremaining: 1.65s\n",
      "52:\tlearn: 0.7097961\ttotal: 1.82s\tremaining: 1.62s\n",
      "53:\tlearn: 0.7053686\ttotal: 1.86s\tremaining: 1.58s\n",
      "54:\tlearn: 0.7001894\ttotal: 1.89s\tremaining: 1.55s\n",
      "55:\tlearn: 0.6945338\ttotal: 1.92s\tremaining: 1.51s\n",
      "56:\tlearn: 0.6887219\ttotal: 1.96s\tremaining: 1.48s\n",
      "57:\tlearn: 0.6845440\ttotal: 1.99s\tremaining: 1.44s\n",
      "58:\tlearn: 0.6800181\ttotal: 2.02s\tremaining: 1.4s\n",
      "59:\tlearn: 0.6750931\ttotal: 2.05s\tremaining: 1.37s\n",
      "60:\tlearn: 0.6701560\ttotal: 2.09s\tremaining: 1.33s\n",
      "61:\tlearn: 0.6658397\ttotal: 2.12s\tremaining: 1.3s\n",
      "62:\tlearn: 0.6625522\ttotal: 2.16s\tremaining: 1.27s\n",
      "63:\tlearn: 0.6576081\ttotal: 2.19s\tremaining: 1.23s\n",
      "64:\tlearn: 0.6542244\ttotal: 2.22s\tremaining: 1.2s\n",
      "65:\tlearn: 0.6500356\ttotal: 2.25s\tremaining: 1.16s\n",
      "66:\tlearn: 0.6451790\ttotal: 2.29s\tremaining: 1.13s\n",
      "67:\tlearn: 0.6417013\ttotal: 2.32s\tremaining: 1.09s\n",
      "68:\tlearn: 0.6378148\ttotal: 2.35s\tremaining: 1.06s\n",
      "69:\tlearn: 0.6349219\ttotal: 2.39s\tremaining: 1.02s\n",
      "70:\tlearn: 0.6319803\ttotal: 2.42s\tremaining: 989ms\n",
      "71:\tlearn: 0.6284999\ttotal: 2.46s\tremaining: 955ms\n",
      "72:\tlearn: 0.6259772\ttotal: 2.49s\tremaining: 921ms\n",
      "73:\tlearn: 0.6212831\ttotal: 2.52s\tremaining: 887ms\n",
      "74:\tlearn: 0.6179585\ttotal: 2.56s\tremaining: 853ms\n",
      "75:\tlearn: 0.6153045\ttotal: 2.59s\tremaining: 819ms\n",
      "76:\tlearn: 0.6110279\ttotal: 2.63s\tremaining: 784ms\n",
      "77:\tlearn: 0.6061214\ttotal: 2.66s\tremaining: 750ms\n",
      "78:\tlearn: 0.6017536\ttotal: 2.69s\tremaining: 716ms\n",
      "79:\tlearn: 0.5968983\ttotal: 2.73s\tremaining: 682ms\n",
      "80:\tlearn: 0.5931358\ttotal: 2.76s\tremaining: 648ms\n",
      "81:\tlearn: 0.5900009\ttotal: 2.79s\tremaining: 614ms\n",
      "82:\tlearn: 0.5862321\ttotal: 2.83s\tremaining: 580ms\n",
      "83:\tlearn: 0.5827631\ttotal: 2.87s\tremaining: 546ms\n",
      "84:\tlearn: 0.5793355\ttotal: 2.9s\tremaining: 511ms\n",
      "85:\tlearn: 0.5754198\ttotal: 2.93s\tremaining: 477ms\n",
      "86:\tlearn: 0.5730432\ttotal: 2.96s\tremaining: 443ms\n",
      "87:\tlearn: 0.5700763\ttotal: 2.99s\tremaining: 408ms\n",
      "88:\tlearn: 0.5663669\ttotal: 3.03s\tremaining: 374ms\n",
      "89:\tlearn: 0.5638754\ttotal: 3.06s\tremaining: 340ms\n",
      "90:\tlearn: 0.5609022\ttotal: 3.09s\tremaining: 306ms\n",
      "91:\tlearn: 0.5567427\ttotal: 3.13s\tremaining: 272ms\n",
      "92:\tlearn: 0.5546784\ttotal: 3.16s\tremaining: 238ms\n",
      "93:\tlearn: 0.5520473\ttotal: 3.19s\tremaining: 204ms\n",
      "94:\tlearn: 0.5497510\ttotal: 3.23s\tremaining: 170ms\n",
      "95:\tlearn: 0.5468918\ttotal: 3.26s\tremaining: 136ms\n",
      "96:\tlearn: 0.5439764\ttotal: 3.29s\tremaining: 102ms\n",
      "97:\tlearn: 0.5418341\ttotal: 3.33s\tremaining: 67.9ms\n",
      "98:\tlearn: 0.5392529\ttotal: 3.36s\tremaining: 33.9ms\n",
      "99:\tlearn: 0.5359966\ttotal: 3.39s\tremaining: 0us\n",
      "0:\tlearn: 1.3373171\ttotal: 34.5ms\tremaining: 3.42s\n",
      "1:\tlearn: 1.2986205\ttotal: 67.5ms\tremaining: 3.31s\n",
      "2:\tlearn: 1.2650577\ttotal: 100ms\tremaining: 3.25s\n",
      "3:\tlearn: 1.2288294\ttotal: 134ms\tremaining: 3.21s\n",
      "4:\tlearn: 1.2030685\ttotal: 167ms\tremaining: 3.17s\n",
      "5:\tlearn: 1.1768889\ttotal: 200ms\tremaining: 3.13s\n",
      "6:\tlearn: 1.1562302\ttotal: 232ms\tremaining: 3.09s\n",
      "7:\tlearn: 1.1343070\ttotal: 267ms\tremaining: 3.07s\n",
      "8:\tlearn: 1.1133518\ttotal: 303ms\tremaining: 3.06s\n",
      "9:\tlearn: 1.0931194\ttotal: 336ms\tremaining: 3.02s\n",
      "10:\tlearn: 1.0732369\ttotal: 369ms\tremaining: 2.99s\n",
      "11:\tlearn: 1.0552664\ttotal: 403ms\tremaining: 2.96s\n",
      "12:\tlearn: 1.0404139\ttotal: 438ms\tremaining: 2.93s\n",
      "13:\tlearn: 1.0266693\ttotal: 471ms\tremaining: 2.89s\n",
      "14:\tlearn: 1.0133967\ttotal: 504ms\tremaining: 2.86s\n",
      "15:\tlearn: 1.0003693\ttotal: 537ms\tremaining: 2.82s\n",
      "16:\tlearn: 0.9870389\ttotal: 570ms\tremaining: 2.78s\n",
      "17:\tlearn: 0.9754310\ttotal: 603ms\tremaining: 2.74s\n",
      "18:\tlearn: 0.9638335\ttotal: 636ms\tremaining: 2.71s\n",
      "19:\tlearn: 0.9519652\ttotal: 670ms\tremaining: 2.68s\n",
      "20:\tlearn: 0.9399194\ttotal: 702ms\tremaining: 2.64s\n",
      "21:\tlearn: 0.9283398\ttotal: 735ms\tremaining: 2.6s\n",
      "22:\tlearn: 0.9171898\ttotal: 768ms\tremaining: 2.57s\n",
      "23:\tlearn: 0.9085360\ttotal: 801ms\tremaining: 2.54s\n",
      "24:\tlearn: 0.8990464\ttotal: 836ms\tremaining: 2.51s\n",
      "25:\tlearn: 0.8895522\ttotal: 869ms\tremaining: 2.47s\n",
      "26:\tlearn: 0.8807460\ttotal: 905ms\tremaining: 2.44s\n",
      "27:\tlearn: 0.8719411\ttotal: 938ms\tremaining: 2.41s\n",
      "28:\tlearn: 0.8625174\ttotal: 974ms\tremaining: 2.38s\n",
      "29:\tlearn: 0.8536409\ttotal: 1.01s\tremaining: 2.35s\n",
      "30:\tlearn: 0.8458190\ttotal: 1.04s\tremaining: 2.32s\n",
      "31:\tlearn: 0.8377025\ttotal: 1.07s\tremaining: 2.28s\n",
      "32:\tlearn: 0.8305180\ttotal: 1.11s\tremaining: 2.25s\n",
      "33:\tlearn: 0.8231861\ttotal: 1.14s\tremaining: 2.21s\n",
      "34:\tlearn: 0.8151368\ttotal: 1.18s\tremaining: 2.18s\n",
      "35:\tlearn: 0.8084716\ttotal: 1.21s\tremaining: 2.15s\n",
      "36:\tlearn: 0.8024058\ttotal: 1.24s\tremaining: 2.11s\n",
      "37:\tlearn: 0.7949414\ttotal: 1.27s\tremaining: 2.08s\n",
      "38:\tlearn: 0.7872634\ttotal: 1.31s\tremaining: 2.05s\n",
      "39:\tlearn: 0.7799739\ttotal: 1.34s\tremaining: 2.01s\n",
      "40:\tlearn: 0.7742885\ttotal: 1.38s\tremaining: 1.98s\n",
      "41:\tlearn: 0.7673194\ttotal: 1.41s\tremaining: 1.95s\n",
      "42:\tlearn: 0.7623681\ttotal: 1.44s\tremaining: 1.91s\n",
      "43:\tlearn: 0.7571148\ttotal: 1.47s\tremaining: 1.88s\n",
      "44:\tlearn: 0.7496154\ttotal: 1.51s\tremaining: 1.84s\n",
      "45:\tlearn: 0.7453446\ttotal: 1.54s\tremaining: 1.81s\n",
      "46:\tlearn: 0.7406764\ttotal: 1.57s\tremaining: 1.77s\n",
      "47:\tlearn: 0.7339334\ttotal: 1.61s\tremaining: 1.74s\n",
      "48:\tlearn: 0.7300664\ttotal: 1.64s\tremaining: 1.71s\n",
      "49:\tlearn: 0.7245523\ttotal: 1.67s\tremaining: 1.67s\n",
      "50:\tlearn: 0.7195434\ttotal: 1.71s\tremaining: 1.64s\n",
      "51:\tlearn: 0.7148403\ttotal: 1.74s\tremaining: 1.6s\n",
      "52:\tlearn: 0.7097961\ttotal: 1.77s\tremaining: 1.57s\n",
      "53:\tlearn: 0.7053686\ttotal: 1.81s\tremaining: 1.54s\n",
      "54:\tlearn: 0.7001894\ttotal: 1.84s\tremaining: 1.5s\n",
      "55:\tlearn: 0.6945338\ttotal: 1.87s\tremaining: 1.47s\n",
      "56:\tlearn: 0.6887219\ttotal: 1.91s\tremaining: 1.44s\n",
      "57:\tlearn: 0.6845440\ttotal: 1.94s\tremaining: 1.41s\n",
      "58:\tlearn: 0.6800181\ttotal: 1.97s\tremaining: 1.37s\n",
      "59:\tlearn: 0.6750931\ttotal: 2s\tremaining: 1.34s\n",
      "60:\tlearn: 0.6701560\ttotal: 2.04s\tremaining: 1.3s\n",
      "61:\tlearn: 0.6658397\ttotal: 2.07s\tremaining: 1.27s\n",
      "62:\tlearn: 0.6625522\ttotal: 2.11s\tremaining: 1.24s\n",
      "63:\tlearn: 0.6576081\ttotal: 2.14s\tremaining: 1.2s\n",
      "64:\tlearn: 0.6542244\ttotal: 2.17s\tremaining: 1.17s\n",
      "65:\tlearn: 0.6500356\ttotal: 2.21s\tremaining: 1.14s\n",
      "66:\tlearn: 0.6451790\ttotal: 2.24s\tremaining: 1.1s\n",
      "67:\tlearn: 0.6417013\ttotal: 2.27s\tremaining: 1.07s\n",
      "68:\tlearn: 0.6378148\ttotal: 2.31s\tremaining: 1.04s\n",
      "69:\tlearn: 0.6349219\ttotal: 2.34s\tremaining: 1s\n",
      "70:\tlearn: 0.6319803\ttotal: 2.37s\tremaining: 969ms\n",
      "71:\tlearn: 0.6284999\ttotal: 2.4s\tremaining: 935ms\n",
      "72:\tlearn: 0.6259772\ttotal: 2.44s\tremaining: 902ms\n",
      "73:\tlearn: 0.6212831\ttotal: 2.47s\tremaining: 869ms\n",
      "74:\tlearn: 0.6179585\ttotal: 2.51s\tremaining: 836ms\n",
      "75:\tlearn: 0.6153045\ttotal: 2.54s\tremaining: 802ms\n",
      "76:\tlearn: 0.6110279\ttotal: 2.57s\tremaining: 769ms\n",
      "77:\tlearn: 0.6061214\ttotal: 2.61s\tremaining: 735ms\n",
      "78:\tlearn: 0.6017536\ttotal: 2.64s\tremaining: 702ms\n",
      "79:\tlearn: 0.5968983\ttotal: 2.67s\tremaining: 669ms\n",
      "80:\tlearn: 0.5931358\ttotal: 2.71s\tremaining: 635ms\n",
      "81:\tlearn: 0.5900009\ttotal: 2.74s\tremaining: 602ms\n",
      "82:\tlearn: 0.5862321\ttotal: 2.78s\tremaining: 569ms\n",
      "83:\tlearn: 0.5827631\ttotal: 2.81s\tremaining: 535ms\n",
      "84:\tlearn: 0.5793355\ttotal: 2.84s\tremaining: 502ms\n",
      "85:\tlearn: 0.5754198\ttotal: 2.88s\tremaining: 468ms\n",
      "86:\tlearn: 0.5730432\ttotal: 2.91s\tremaining: 435ms\n",
      "87:\tlearn: 0.5700763\ttotal: 2.94s\tremaining: 401ms\n",
      "88:\tlearn: 0.5663669\ttotal: 2.97s\tremaining: 368ms\n",
      "89:\tlearn: 0.5638754\ttotal: 3.01s\tremaining: 334ms\n",
      "90:\tlearn: 0.5609022\ttotal: 3.04s\tremaining: 301ms\n",
      "91:\tlearn: 0.5567427\ttotal: 3.07s\tremaining: 267ms\n",
      "92:\tlearn: 0.5546784\ttotal: 3.11s\tremaining: 234ms\n",
      "93:\tlearn: 0.5520473\ttotal: 3.14s\tremaining: 201ms\n",
      "94:\tlearn: 0.5497510\ttotal: 3.18s\tremaining: 167ms\n",
      "95:\tlearn: 0.5468918\ttotal: 3.21s\tremaining: 134ms\n",
      "96:\tlearn: 0.5439764\ttotal: 3.24s\tremaining: 100ms\n",
      "97:\tlearn: 0.5418341\ttotal: 3.27s\tremaining: 66.8ms\n",
      "98:\tlearn: 0.5392529\ttotal: 3.31s\tremaining: 33.4ms\n",
      "99:\tlearn: 0.5359966\ttotal: 3.34s\tremaining: 0us\n"
     ]
    },
    {
     "data": {
      "image/png": "[encoded data removed]",
      "text/plain": [
       "<Figure size 800x500 with 2 Axes>"
      ]
     },
     "metadata": {},
     "output_type": "display_data"
    }
   ],
   "source": [
    "# vect_x = vectorizer.transform(x)\n",
    "# vect_x = sparse.hstack((sparse.csr_matrix(df_films_splitted[['mean','median']].values), vect_x))\n",
    "\n",
    "# nm = NearMiss()\n",
    "# X_res, Y_res = nm.fit_resample(vect_x, y)\n",
    "# pipeline2 = Pipeline( steps = [(\"base\", CatBoostClassifier(iterations=100, learning_rate=0.1, depth=10, task_type='GPU') )]  )\n",
    "# # CatBoostClassifier(task_type='GPU')\n",
    "# param_grid2 = {\n",
    "#     # \"base__n_estimators\": [i for i in range(200,300,50)],\n",
    "#     # \"base__max_depth\": [i for i in range(25,35,5)],\n",
    "#     # \"base__min_samples_split\": [i for i in range(8,12,2)],\n",
    "# }\n",
    "# estimator2 = search_best_estimator(pipeline2, param_grid2, X_res, Y_res)\n",
    "# X_train, X_test, y_train, y_test = train_test_split(\n",
    "#     vect_x, y, random_state=42, test_size=0.3, stratify=y\n",
    "# )\n",
    "# estimator2.fit(X_res, Y_res)\n",
    "# y_preds2 = estimator2.predict(X_test)\n",
    "# plot_confusion_matrix(y_test, y_preds2, estimator2)"
   ]
  },
  {
   "cell_type": "code",
   "execution_count": 72,
   "metadata": {},
   "outputs": [],
   "source": [
    "# https://stackoverflow.com/a/69678207\n",
    "# https://habr.com/ru/post/702626/"
   ]
  }
 ],
 "metadata": {
  "kernelspec": {
   "display_name": "Python 3",
   "language": "python",
   "name": "python3"
  },
  "language_info": {
   "codemirror_mode": {
    "name": "ipython",
    "version": 3
   },
   "file_extension": ".py",
   "mimetype": "text/x-python",
   "name": "python",
   "nbconvert_exporter": "python",
   "pygments_lexer": "ipython3",
   "version": "3.10.6"
  },
  "orig_nbformat": 4,
  "vscode": {
   "interpreter": {
    "hash": "4ae014aa0c140bf18c89a580af6667d9b98d6bbe24021bb45f64159ca85cd197"
   }
  }
 },
 "nbformat": 4,
 "nbformat_minor": 2
}
