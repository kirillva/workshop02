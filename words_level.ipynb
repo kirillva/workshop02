{
 "cells": [
  {
   "cell_type": "code",
   "execution_count": 222,
   "metadata": {},
   "outputs": [],
   "source": [
    "import fitz\n",
    "import pandas as pd\n",
    "import bisect"
   ]
  },
  {
   "cell_type": "code",
   "execution_count": 223,
   "metadata": {},
   "outputs": [],
   "source": [
    "def scrape(filePath, start, stop, font, fontSize):\n",
    "    labels = {}\n",
    "    results = [] # list of tuples that store the information as (text, font size, font name) \n",
    "    pdf = fitz.open(filePath) # filePath is a string that contains the path to the pdf\n",
    "    for page in pdf.pages(start=start, stop=stop):\n",
    "        dict = page.get_text(\"dict\")\n",
    "        blocks = dict[\"blocks\"]\n",
    "        for block in blocks:\n",
    "            if \"lines\" in block.keys():\n",
    "                spans = block['lines']\n",
    "                for span in spans:\n",
    "                    data = span['spans']\n",
    "                    stack = []\n",
    "                    for lines in data:\n",
    "                        if (lines['text'] in ['A1', 'A2', 'B1', 'B2', 'C1']):\n",
    "                            labels[lines['text']] = len(results)\n",
    "                        if (lines['size'] >= fontSize[0]) & (lines['size'] <= fontSize[1]):\n",
    "                            if ((lines['font'] == 'MyriadPro-Regular') | (lines['font'] == 'MyriadPro-LightIt')) & (len(lines['text']) > 1):\n",
    "                                stack.append(lines['text'])\n",
    "\n",
    "                            if lines['font'] == 'MyriadPro-LightIt':\n",
    "                                results.append(stack)\n",
    "                                \n",
    "                            \n",
    "\n",
    "    pdf.close()\n",
    "    return results, labels"
   ]
  },
  {
   "cell_type": "code",
   "execution_count": 224,
   "metadata": {},
   "outputs": [],
   "source": [
    "dfs = []"
   ]
  },
  {
   "cell_type": "code",
   "execution_count": 225,
   "metadata": {},
   "outputs": [],
   "source": [
    "names = [\n",
    "    'American_Oxford_3000_by_CEFR_level',\n",
    "    'American_Oxford_5000_by_CEFR_level',\n",
    "    'The_Oxford_3000_by_CEFR_level',\n",
    "    'The_Oxford_5000_by_CEFR_level'\n",
    "]"
   ]
  },
  {
   "cell_type": "code",
   "execution_count": 226,
   "metadata": {},
   "outputs": [],
   "source": [
    "for name in names:\n",
    "    res, labels = scrape('English_level/Oxford_CEFR_level/' + name + '.pdf', start=0, stop=13, font=None, fontSize=[9, 9])\n",
    "    df = pd.DataFrame(res)\n",
    "    labels_list = list(labels)\n",
    "    for index in range(len(labels_list) + 1):\n",
    "        if index == 0: \n",
    "            continue\n",
    "\n",
    "        start = labels[labels_list[index - 1]]\n",
    "        end = len(df) if index == len(labels_list) else labels[labels_list[index]]\n",
    "        df.loc[start:end, 'label'] = labels_list[index - 1]\n",
    "    \n",
    "    dfs.append(df)"
   ]
  },
  {
   "cell_type": "code",
   "execution_count": 227,
   "metadata": {},
   "outputs": [],
   "source": [
    "dfs[0].columns = [0, 'type', 'label']\n",
    "dfs[1].columns = [0, 'type', 'label']"
   ]
  },
  {
   "cell_type": "code",
   "execution_count": 228,
   "metadata": {},
   "outputs": [],
   "source": [
    "dfs[2]['type'] = dfs[2][dfs[2].columns[1:4]].apply(lambda row: ','.join( [x for x in row.values.astype(str) if x != 'None']), axis=1)\n"
   ]
  },
  {
   "cell_type": "code",
   "execution_count": 229,
   "metadata": {},
   "outputs": [],
   "source": [
    "dfs[2] = dfs[2][[0, 'label', 'type']]"
   ]
  },
  {
   "cell_type": "code",
   "execution_count": 230,
   "metadata": {},
   "outputs": [],
   "source": [
    "dfs[3]['type'] = dfs[3][dfs[3].columns[1:3]].apply(lambda row: ','.join( [x for x in row.values.astype(str) if x != 'None']), axis=1)"
   ]
  },
  {
   "cell_type": "code",
   "execution_count": 231,
   "metadata": {},
   "outputs": [],
   "source": [
    "dfs[3] = dfs[3][[0, 'label', 'type']]"
   ]
  },
  {
   "cell_type": "code",
   "execution_count": 232,
   "metadata": {},
   "outputs": [],
   "source": [
    "words = pd.concat(dfs).reset_index(drop=True)\n",
    "words.columns = ['name', 'type', 'label']"
   ]
  },
  {
   "cell_type": "code",
   "execution_count": 233,
   "metadata": {},
   "outputs": [],
   "source": [
    "columns = list(set(pd.Series(','.join(list(words['type'].astype(str))).split(',')).str.strip()))[1:]"
   ]
  },
  {
   "cell_type": "code",
   "execution_count": 234,
   "metadata": {},
   "outputs": [],
   "source": [
    "words = words.join(pd.DataFrame(columns=columns, index=words.index).fillna(0))"
   ]
  },
  {
   "cell_type": "code",
   "execution_count": 254,
   "metadata": {},
   "outputs": [],
   "source": [
    "def split_type(row):\n",
    "    if row['type'] == None:\n",
    "        return 0\n",
    "    inter = list(set(row['type'].split(',')) & set(columns))\n",
    "    \n",
    "    if len(inter) == 0:\n",
    "        return 0\n",
    "\n",
    "    words.loc[row.name, inter] = [1] * len(inter)\n",
    "    return 1\n"
   ]
  },
  {
   "cell_type": "code",
   "execution_count": 255,
   "metadata": {},
   "outputs": [
    {
     "data": {
      "text/plain": [
       "0        0\n",
       "1        1\n",
       "2        1\n",
       "3        1\n",
       "4        1\n",
       "        ..\n",
       "11222    1\n",
       "11223    1\n",
       "11224    1\n",
       "11225    1\n",
       "11226    1\n",
       "Length: 11227, dtype: int64"
      ]
     },
     "execution_count": 255,
     "metadata": {},
     "output_type": "execute_result"
    }
   ],
   "source": [
    "words.apply(split_type, axis=1)"
   ]
  },
  {
   "cell_type": "code",
   "execution_count": 271,
   "metadata": {},
   "outputs": [],
   "source": [
    "words = words[['name', 'type', 'label'] + list((words[columns] > 0).sum().sort_values().tail(10).index)]"
   ]
  },
  {
   "cell_type": "code",
   "execution_count": 272,
   "metadata": {},
   "outputs": [],
   "source": [
    "words.to_csv('Parsed/words.csv')"
   ]
  }
 ],
 "metadata": {
  "kernelspec": {
   "display_name": "Python 3",
   "language": "python",
   "name": "python3"
  },
  "language_info": {
   "codemirror_mode": {
    "name": "ipython",
    "version": 3
   },
   "file_extension": ".py",
   "mimetype": "text/x-python",
   "name": "python",
   "nbconvert_exporter": "python",
   "pygments_lexer": "ipython3",
   "version": "3.11.2"
  },
  "orig_nbformat": 4
 },
 "nbformat": 4,
 "nbformat_minor": 2
}
