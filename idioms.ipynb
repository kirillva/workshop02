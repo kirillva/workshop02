{
 "cells": [
  {
   "cell_type": "code",
   "execution_count": null,
   "metadata": {},
   "outputs": [],
   "source": [
    "import fitz\n",
    "import pandas as pd"
   ]
  },
  {
   "cell_type": "code",
   "execution_count": 88,
   "metadata": {},
   "outputs": [],
   "source": [
    "def scrape(filePath, start, stop, font, fontSize):\n",
    "    results = []\n",
    "    pdf = fitz.open(filePath)\n",
    "    for page in pdf.pages(start=start, stop=stop):\n",
    "        dict = page.get_text(\"dict\")\n",
    "        blocks = dict[\"blocks\"]\n",
    "        for block in blocks:\n",
    "            if \"lines\" in block.keys():\n",
    "                spans = block['lines']\n",
    "                for span in spans:\n",
    "                    data = span['spans']\n",
    "                    stack = []\n",
    "                    lastFont = ''\n",
    "                    for lines in data:\n",
    "                        if (lastFont == '') | (lastFont != lines['font']):\n",
    "                            lastFont = lines['font']\n",
    "                            if len(stack) > 1:\n",
    "                                results.append(' '.join(stack).replace(')', '').replace('(', ''))\n",
    "                                stack = []\n",
    "                        \n",
    "                        if ((font == lines['font']) | (font == None)) & (lines['size'] > fontSize[0]) & (lines['size'] < fontSize[1]):\n",
    "                            stack.append(lines['text'])\n",
    "\n",
    "    pdf.close()\n",
    "    return results"
   ]
  },
  {
   "cell_type": "code",
   "execution_count": 89,
   "metadata": {},
   "outputs": [],
   "source": [
    "res = scrape('Oxford_Dictionary_of_Idioms.pdf', start=13, stop=333, font='Times-Bold', fontSize=[7.8, 9])"
   ]
  },
  {
   "cell_type": "code",
   "execution_count": 90,
   "metadata": {},
   "outputs": [],
   "source": [
    "df = pd.DataFrame(res)\n",
    "df.to_csv('./idioms.csv')"
   ]
  }
 ],
 "metadata": {
  "kernelspec": {
   "display_name": "Python 3",
   "language": "python",
   "name": "python3"
  },
  "language_info": {
   "codemirror_mode": {
    "name": "ipython",
    "version": 3
   },
   "file_extension": ".py",
   "mimetype": "text/x-python",
   "name": "python",
   "nbconvert_exporter": "python",
   "pygments_lexer": "ipython3",
   "version": "3.11.2"
  },
  "orig_nbformat": 4
 },
 "nbformat": 4,
 "nbformat_minor": 2
}
